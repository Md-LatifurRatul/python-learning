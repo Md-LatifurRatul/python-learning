{
 "cells": [
  {
   "cell_type": "markdown",
   "metadata": {},
   "source": [
    "# Loops"
   ]
  },
  {
   "cell_type": "code",
   "execution_count": 2,
   "metadata": {},
   "outputs": [],
   "source": [
    "personal_salary = [2000, 2500, 2499, 5000]"
   ]
  },
  {
   "cell_type": "code",
   "execution_count": 3,
   "metadata": {},
   "outputs": [
    {
     "name": "stdout",
     "output_type": "stream",
     "text": [
      "[2200.0, 2750.0, 2748.9, 5500.0]\n"
     ]
    }
   ],
   "source": [
    "new_salary = []\n",
    "\n",
    "for i in personal_salary:\n",
    "    increased_salary = i + (i * 10/100)\n",
    "    new_salary.append(increased_salary)\n",
    "\n",
    "print(new_salary)"
   ]
  },
  {
   "cell_type": "code",
   "execution_count": 5,
   "metadata": {},
   "outputs": [
    {
     "data": {
      "text/plain": [
       "'Salary is good'"
      ]
     },
     "execution_count": 5,
     "metadata": {},
     "output_type": "execute_result"
    }
   ],
   "source": [
    "salary = 20000\n",
    "'Salary is good' if salary > 5000 else 'Not good'"
   ]
  },
  {
   "cell_type": "code",
   "execution_count": 6,
   "metadata": {},
   "outputs": [
    {
     "name": "stdout",
     "output_type": "stream",
     "text": [
      "[2640.0, 3025.0, 3023.79, 6050.0]\n"
     ]
    }
   ],
   "source": [
    "new_salary1 = []\n",
    "\n",
    "for i in new_salary:\n",
    "    if i < 2300:\n",
    "        increased_salary1 = i + (i * 20/100)\n",
    "        new_salary1.append(increased_salary1)\n",
    "    elif 2300 <= i <= 2500:\n",
    "        increased_salary2 = i + (i * 15/100)\n",
    "        new_salary1.append(increased_salary2)\n",
    "    elif i > 2500:\n",
    "        increased_salary3 = i + (i * 10/100)\n",
    "        new_salary1.append(increased_salary3)\n",
    "\n",
    "\n",
    "print(new_salary1)"
   ]
  },
  {
   "cell_type": "code",
   "execution_count": 7,
   "metadata": {},
   "outputs": [
    {
     "name": "stdout",
     "output_type": "stream",
     "text": [
      "[2400.0, 2873.85, 5500.0]\n"
     ]
    }
   ],
   "source": [
    "new_salary2 = []\n",
    "\n",
    "for i in personal_salary:\n",
    "    if i == 2500:\n",
    "        continue\n",
    "    elif i < 2300:\n",
    "        increased_salary1 = i + (i * 20/100)\n",
    "        new_salary2.append(increased_salary1)\n",
    "    elif 2300 <= i <= 2500:\n",
    "        increased_salary2 = i + (i * 15/100)\n",
    "        new_salary2.append(increased_salary2)\n",
    "    elif i > 2500:\n",
    "        increased_salary3 = i + (i * 10/100)\n",
    "        new_salary2.append(increased_salary3)\n",
    "\n",
    "\n",
    "print(new_salary2)"
   ]
  },
  {
   "cell_type": "code",
   "execution_count": 16,
   "metadata": {},
   "outputs": [
    {
     "name": "stdout",
     "output_type": "stream",
     "text": [
      "0\n",
      "1\n",
      "2\n",
      "3\n"
     ]
    }
   ],
   "source": [
    "for i in range(10):\n",
    "    if i == 4:\n",
    "        break\n",
    "    else:\n",
    "        print(i)\n"
   ]
  },
  {
   "cell_type": "code",
   "execution_count": 17,
   "metadata": {},
   "outputs": [
    {
     "name": "stdout",
     "output_type": "stream",
     "text": [
      "0\n",
      "1\n",
      "2\n",
      "3\n",
      "4\n",
      "5\n",
      "6\n",
      "7\n",
      "8\n",
      "9\n"
     ]
    }
   ],
   "source": [
    "num = 0\n",
    "\n",
    "while num < 10:\n",
    "    print(num)\n",
    "    num+=1"
   ]
  },
  {
   "cell_type": "code",
   "execution_count": 1,
   "metadata": {},
   "outputs": [
    {
     "name": "stdout",
     "output_type": "stream",
     "text": [
      "You guess the correct number: 30\n"
     ]
    }
   ],
   "source": [
    "number = int(input('Please enter a number: '))\n",
    "\n",
    "number = int((number * 10/8) + (number * 2) + (number/5) - (number * 2/5))\n",
    "\n",
    "counter = 0\n",
    "\n",
    "while True:\n",
    "\n",
    "    counter+=1\n",
    "    estimate = int(input('Please guess the number'))\n",
    "    if estimate < number:\n",
    "        print('Number is high')\n",
    "    elif estimate > number:\n",
    "        print('Number is lower')\n",
    "    elif estimate == number:\n",
    "        print('You guess the correct number: {}'.format(number))\n",
    "        break\n",
    "\n"
   ]
  }
 ],
 "metadata": {
  "kernelspec": {
   "display_name": "Python 3",
   "language": "python",
   "name": "python3"
  },
  "language_info": {
   "codemirror_mode": {
    "name": "ipython",
    "version": 3
   },
   "file_extension": ".py",
   "mimetype": "text/x-python",
   "name": "python",
   "nbconvert_exporter": "python",
   "pygments_lexer": "ipython3",
   "version": "3.13.0"
  }
 },
 "nbformat": 4,
 "nbformat_minor": 2
}
