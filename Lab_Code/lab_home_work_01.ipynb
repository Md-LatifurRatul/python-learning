{
  "nbformat": 4,
  "nbformat_minor": 0,
  "metadata": {
    "colab": {
      "provenance": []
    },
    "kernelspec": {
      "name": "python3",
      "display_name": "Python 3"
    },
    "language_info": {
      "name": "python"
    }
  },
  "cells": [
    {
      "cell_type": "code",
      "execution_count": 35,
      "metadata": {
        "colab": {
          "base_uri": "https://localhost:8080/"
        },
        "id": "ZWTuWqGNLVgp",
        "outputId": "1f4ca691-f667-47e4-cc10-647da9f097cd"
      },
      "outputs": [
        {
          "output_type": "stream",
          "name": "stdout",
          "text": [
            "Hello ratul\n"
          ]
        }
      ],
      "source": [
        "# String method\n",
        "\n",
        "# 1. capitalize()\n",
        "text = \"Hello Ratul\"\n",
        "print(text.capitalize())\n"
      ]
    },
    {
      "cell_type": "code",
      "source": [
        "# 2. casefold()\n",
        "my_text = \"Hello Ratul\"\n",
        "print(my_text.casefold())"
      ],
      "metadata": {
        "colab": {
          "base_uri": "https://localhost:8080/"
        },
        "id": "5T4zF-85QLKv",
        "outputId": "ee6c6772-a1bd-4342-c0f6-7d25f633c1dc"
      },
      "execution_count": 36,
      "outputs": [
        {
          "output_type": "stream",
          "name": "stdout",
          "text": [
            "hello ratul\n"
          ]
        }
      ]
    },
    {
      "cell_type": "code",
      "source": [
        "# 3. center()\n",
        "my_string = \"Ratul\"\n",
        "print(my_string.center(9,\"-\"))"
      ],
      "metadata": {
        "colab": {
          "base_uri": "https://localhost:8080/"
        },
        "id": "T8iOSiglQiBV",
        "outputId": "4d3a2e1a-308c-4ae1-e80b-9ebb8433594f"
      },
      "execution_count": 37,
      "outputs": [
        {
          "output_type": "stream",
          "name": "stdout",
          "text": [
            "--Ratul--\n"
          ]
        }
      ]
    },
    {
      "cell_type": "code",
      "source": [
        "# 4. count()\n",
        "text = \"Latifur Rahman Ratul Python\"\n",
        "print(text.count(\"R\"))"
      ],
      "metadata": {
        "colab": {
          "base_uri": "https://localhost:8080/"
        },
        "id": "dyJ1y6L8Q1tu",
        "outputId": "4a8b3824-4fb5-47d7-e704-6606acd86496"
      },
      "execution_count": 38,
      "outputs": [
        {
          "output_type": "stream",
          "name": "stdout",
          "text": [
            "2\n"
          ]
        }
      ]
    },
    {
      "cell_type": "code",
      "source": [
        "# 5. encode()\n",
        "my_text = \"hello\"\n",
        "print(my_text.encode())"
      ],
      "metadata": {
        "colab": {
          "base_uri": "https://localhost:8080/"
        },
        "id": "MzD7vEUERQhF",
        "outputId": "a120d973-fc4e-4ac2-cf18-c31269c4d644"
      },
      "execution_count": 39,
      "outputs": [
        {
          "output_type": "stream",
          "name": "stdout",
          "text": [
            "b'hello'\n"
          ]
        }
      ]
    },
    {
      "cell_type": "code",
      "source": [
        "# 6. endswith()\n",
        "my_string = \"python ratul\"\n",
        "print(my_string.endswith(\"ratul\"))"
      ],
      "metadata": {
        "colab": {
          "base_uri": "https://localhost:8080/"
        },
        "id": "pKYaghOCRdbd",
        "outputId": "d621949e-8f97-423e-d44b-43c293829cd6"
      },
      "execution_count": 40,
      "outputs": [
        {
          "output_type": "stream",
          "name": "stdout",
          "text": [
            "True\n"
          ]
        }
      ]
    },
    {
      "cell_type": "code",
      "source": [
        "# 7. expandtabs()\n",
        "text = \"python\\tratul\"\n",
        "print(text.expandtabs(4))"
      ],
      "metadata": {
        "colab": {
          "base_uri": "https://localhost:8080/"
        },
        "id": "1axdDE-mScEV",
        "outputId": "c0681bd7-b648-40b0-dbd4-c5c7c9888934"
      },
      "execution_count": 41,
      "outputs": [
        {
          "output_type": "stream",
          "name": "stdout",
          "text": [
            "python  ratul\n"
          ]
        }
      ]
    },
    {
      "cell_type": "code",
      "source": [
        "# 8. find()\n",
        "my_string = \"hello python ratul\"\n",
        "print(my_string.find(\"python\"))"
      ],
      "metadata": {
        "colab": {
          "base_uri": "https://localhost:8080/"
        },
        "id": "3zEmhc8bSkJ8",
        "outputId": "dcdf870d-ee69-4efc-ad81-66031d25ed9e"
      },
      "execution_count": 42,
      "outputs": [
        {
          "output_type": "stream",
          "name": "stdout",
          "text": [
            "6\n"
          ]
        }
      ]
    },
    {
      "cell_type": "code",
      "source": [
        "# 9. format()\n",
        "my_text = \"Hello python, {}!\"\n",
        "print(my_text.format(\"ratul\"))"
      ],
      "metadata": {
        "colab": {
          "base_uri": "https://localhost:8080/"
        },
        "id": "YodiL2JeSw5j",
        "outputId": "872df91a-6a72-4eac-8daf-adc6c6d9e046"
      },
      "execution_count": 43,
      "outputs": [
        {
          "output_type": "stream",
          "name": "stdout",
          "text": [
            "Hello python, ratul!\n"
          ]
        }
      ]
    },
    {
      "cell_type": "code",
      "source": [
        "# 10. format_map()\n",
        "data = {\"name\": \"Ratul\"}\n",
        "text10 = \"Hello, {name}!\"\n",
        "print(text10.format_map(data))"
      ],
      "metadata": {
        "colab": {
          "base_uri": "https://localhost:8080/"
        },
        "id": "zsXnDKxjTitt",
        "outputId": "53fd0d3c-5474-4bc3-ca0c-73ffb5e5b61a"
      },
      "execution_count": 44,
      "outputs": [
        {
          "output_type": "stream",
          "name": "stdout",
          "text": [
            "Hello, Ratul!\n"
          ]
        }
      ]
    },
    {
      "cell_type": "code",
      "source": [
        "# 11. index()\n",
        "text11 = \"python is fun\"\n",
        "print(text11.index(\"fun\"))"
      ],
      "metadata": {
        "colab": {
          "base_uri": "https://localhost:8080/"
        },
        "id": "hyZQeOCwUC40",
        "outputId": "ffbb465f-64d5-4cfa-f82d-7061a14c56f7"
      },
      "execution_count": 45,
      "outputs": [
        {
          "output_type": "stream",
          "name": "stdout",
          "text": [
            "10\n"
          ]
        }
      ]
    },
    {
      "cell_type": "code",
      "source": [
        "# 12. isalnum()\n",
        "text12 = \"Python123\"\n",
        "print(text12.isalnum())"
      ],
      "metadata": {
        "colab": {
          "base_uri": "https://localhost:8080/"
        },
        "id": "Mnejz-cUUd99",
        "outputId": "a9e22d2e-e1a5-408c-a294-b2a10a0e9fe5"
      },
      "execution_count": 46,
      "outputs": [
        {
          "output_type": "stream",
          "name": "stdout",
          "text": [
            "True\n"
          ]
        }
      ]
    },
    {
      "cell_type": "code",
      "source": [
        "# 13. isalpha()\n",
        "text_string = \"Python\"\n",
        "print(text_string.isalpha())"
      ],
      "metadata": {
        "colab": {
          "base_uri": "https://localhost:8080/"
        },
        "id": "xougRwURUiSs",
        "outputId": "d7dd0b82-6550-47ef-9fd7-9544bd96ee07"
      },
      "execution_count": 47,
      "outputs": [
        {
          "output_type": "stream",
          "name": "stdout",
          "text": [
            "True\n"
          ]
        }
      ]
    },
    {
      "cell_type": "code",
      "source": [
        "# 14. isascii()\n",
        "my_str = \"Ratul123\"\n",
        "print(my_str.isascii())"
      ],
      "metadata": {
        "colab": {
          "base_uri": "https://localhost:8080/"
        },
        "id": "q--h3HAhUp_8",
        "outputId": "d886cdb6-e7cb-4804-c78b-2b9efd026e9f"
      },
      "execution_count": 48,
      "outputs": [
        {
          "output_type": "stream",
          "name": "stdout",
          "text": [
            "True\n"
          ]
        }
      ]
    },
    {
      "cell_type": "code",
      "source": [
        "# 15. isdecimal()\n",
        "text_decimal = \"12345\"\n",
        "print(text_decimal.isdecimal())"
      ],
      "metadata": {
        "colab": {
          "base_uri": "https://localhost:8080/"
        },
        "id": "FQdEQdJrUwmF",
        "outputId": "fc858d42-d64f-46e5-c645-6430878e8628"
      },
      "execution_count": 49,
      "outputs": [
        {
          "output_type": "stream",
          "name": "stdout",
          "text": [
            "True\n"
          ]
        }
      ]
    },
    {
      "cell_type": "code",
      "source": [
        "# 16. isdigit()\n",
        "text_isdigit = \"2023\"\n",
        "print(text_isdigit.isdigit())"
      ],
      "metadata": {
        "colab": {
          "base_uri": "https://localhost:8080/"
        },
        "id": "DqwbzWW5U3-V",
        "outputId": "bfe70861-821c-4144-a6f1-5cd9cc33759a"
      },
      "execution_count": 50,
      "outputs": [
        {
          "output_type": "stream",
          "name": "stdout",
          "text": [
            "True\n"
          ]
        }
      ]
    },
    {
      "cell_type": "code",
      "source": [
        "# 17. isidentifier()\n",
        "text_isidentifier = \"python_course\"\n",
        "print(text_isidentifier.isidentifier())"
      ],
      "metadata": {
        "colab": {
          "base_uri": "https://localhost:8080/"
        },
        "id": "n8O-qPZhVKuM",
        "outputId": "f576dd61-5e14-4640-e47b-3733449562a2"
      },
      "execution_count": 51,
      "outputs": [
        {
          "output_type": "stream",
          "name": "stdout",
          "text": [
            "True\n"
          ]
        }
      ]
    },
    {
      "cell_type": "code",
      "source": [
        "# 18. islower()\n",
        "text_islower = \"coding is fun\"\n",
        "print(text_islower.islower())"
      ],
      "metadata": {
        "colab": {
          "base_uri": "https://localhost:8080/"
        },
        "id": "CLyYHHbCVNjc",
        "outputId": "49f53d0f-951b-4644-e40f-4e231fc5d487"
      },
      "execution_count": 52,
      "outputs": [
        {
          "output_type": "stream",
          "name": "stdout",
          "text": [
            "True\n"
          ]
        }
      ]
    },
    {
      "cell_type": "code",
      "source": [
        "# 19. isnumeric()\n",
        "text_isnumeric = \"3456\"\n",
        "print(text_isnumeric.isnumeric())"
      ],
      "metadata": {
        "colab": {
          "base_uri": "https://localhost:8080/"
        },
        "id": "Ye9TyQ8sVPqE",
        "outputId": "f3e86564-2288-4b10-c6e0-350a73fc8413"
      },
      "execution_count": 53,
      "outputs": [
        {
          "output_type": "stream",
          "name": "stdout",
          "text": [
            "True\n"
          ]
        }
      ]
    },
    {
      "cell_type": "code",
      "source": [
        "# 20. isprintable()\n",
        "text_isprintable = \"Ratul\\nPython\"\n",
        "print(text_isprintable.isprintable())"
      ],
      "metadata": {
        "colab": {
          "base_uri": "https://localhost:8080/"
        },
        "id": "QG0ugkOHVVyE",
        "outputId": "72448a9f-fcc4-4088-a893-624643ace6c0"
      },
      "execution_count": 54,
      "outputs": [
        {
          "output_type": "stream",
          "name": "stdout",
          "text": [
            "False\n"
          ]
        }
      ]
    },
    {
      "cell_type": "code",
      "source": [
        "# 21. isspace()\n",
        "text_isspace = \"   \"\n",
        "print(text_isspace.isspace())"
      ],
      "metadata": {
        "colab": {
          "base_uri": "https://localhost:8080/"
        },
        "id": "LpEML3BXVX9c",
        "outputId": "28627f71-0c0b-4942-96dc-6095e786c072"
      },
      "execution_count": 55,
      "outputs": [
        {
          "output_type": "stream",
          "name": "stdout",
          "text": [
            "True\n"
          ]
        }
      ]
    },
    {
      "cell_type": "code",
      "source": [
        "# 22. istitle()\n",
        "text_istitle = \"Python Basics\"\n",
        "print(text_istitle.istitle())"
      ],
      "metadata": {
        "colab": {
          "base_uri": "https://localhost:8080/"
        },
        "id": "xQ7yai_KVZvM",
        "outputId": "5a93cabb-a5b1-40e2-88fa-e2157f4842a6"
      },
      "execution_count": 56,
      "outputs": [
        {
          "output_type": "stream",
          "name": "stdout",
          "text": [
            "True\n"
          ]
        }
      ]
    },
    {
      "cell_type": "code",
      "source": [
        "# 23. isupper()\n",
        "text_isupper = \"PYTHON\"\n",
        "print(text_isupper.isupper())"
      ],
      "metadata": {
        "colab": {
          "base_uri": "https://localhost:8080/"
        },
        "id": "OrEF4ayvVa8N",
        "outputId": "13c198a0-3875-4584-866b-04d1818bc943"
      },
      "execution_count": 57,
      "outputs": [
        {
          "output_type": "stream",
          "name": "stdout",
          "text": [
            "True\n"
          ]
        }
      ]
    },
    {
      "cell_type": "code",
      "source": [
        "# 24. join()\n",
        "fruits = \", \".join([\"apple\", \"mango\", \"banana\"])\n",
        "print(fruits)"
      ],
      "metadata": {
        "colab": {
          "base_uri": "https://localhost:8080/"
        },
        "id": "ddbj8YV8Va58",
        "outputId": "a061c2c2-8312-4e79-f81a-27aa29241369"
      },
      "execution_count": 58,
      "outputs": [
        {
          "output_type": "stream",
          "name": "stdout",
          "text": [
            "apple, mango, banana\n"
          ]
        }
      ]
    },
    {
      "cell_type": "code",
      "source": [
        "# 25. ljust()\n",
        "text_ljust = \"ratul\"\n",
        "print(text_ljust.ljust(10, '_'))"
      ],
      "metadata": {
        "colab": {
          "base_uri": "https://localhost:8080/"
        },
        "id": "Q5sFtSwlVa4E",
        "outputId": "685fbd88-7f9e-4147-9ffe-4d5b48b9ecda"
      },
      "execution_count": 59,
      "outputs": [
        {
          "output_type": "stream",
          "name": "stdout",
          "text": [
            "ratul_____\n"
          ]
        }
      ]
    },
    {
      "cell_type": "code",
      "source": [
        "# 26. lower()\n",
        "text_lower = \"PYTHON IS GREAT\"\n",
        "print(text_lower.lower())"
      ],
      "metadata": {
        "colab": {
          "base_uri": "https://localhost:8080/"
        },
        "id": "GGfbg8OyVa18",
        "outputId": "a527ad2d-ea9b-46fd-cb9d-89cc83365b22"
      },
      "execution_count": 60,
      "outputs": [
        {
          "output_type": "stream",
          "name": "stdout",
          "text": [
            "python is great\n"
          ]
        }
      ]
    },
    {
      "cell_type": "code",
      "source": [
        "# 27. lstrip()\n",
        "text_lstrip = \"   coding\"\n",
        "print(text_lstrip.lstrip())"
      ],
      "metadata": {
        "colab": {
          "base_uri": "https://localhost:8080/"
        },
        "id": "t3go4_t4Va0E",
        "outputId": "2d60ae2f-9c19-45c7-dce1-551feeb31e51"
      },
      "execution_count": 61,
      "outputs": [
        {
          "output_type": "stream",
          "name": "stdout",
          "text": [
            "coding\n"
          ]
        }
      ]
    },
    {
      "cell_type": "code",
      "source": [
        "# 28. maketrans() and translate()\n",
        "table = str.maketrans(\"abc\", \"123\")\n",
        "text_translate = \"banana\"\n",
        "print(text_translate.translate(table))"
      ],
      "metadata": {
        "colab": {
          "base_uri": "https://localhost:8080/"
        },
        "id": "wzQ6dCKhVax9",
        "outputId": "6999801a-aac5-4305-d856-1a83c73d30d3"
      },
      "execution_count": 62,
      "outputs": [
        {
          "output_type": "stream",
          "name": "stdout",
          "text": [
            "21n1n1\n"
          ]
        }
      ]
    },
    {
      "cell_type": "code",
      "source": [
        "# 29. partition()\n",
        "text_partition = \"python programming language\"\n",
        "print(text_partition.partition(\"programming\"))"
      ],
      "metadata": {
        "colab": {
          "base_uri": "https://localhost:8080/"
        },
        "id": "953kG-qLVav9",
        "outputId": "c550bdba-e30f-4a34-fd03-f9fa706d5f58"
      },
      "execution_count": 63,
      "outputs": [
        {
          "output_type": "stream",
          "name": "stdout",
          "text": [
            "('python ', 'programming', ' language')\n"
          ]
        }
      ]
    },
    {
      "cell_type": "code",
      "source": [
        "# 30. replace()\n",
        "text_replace = \"i love python\"\n",
        "print(text_replace.replace(\"python\", \"coding\"))"
      ],
      "metadata": {
        "colab": {
          "base_uri": "https://localhost:8080/"
        },
        "id": "vYPucHrvVat8",
        "outputId": "5a7d3ab7-2555-4b86-cde8-5e21b2538159"
      },
      "execution_count": 64,
      "outputs": [
        {
          "output_type": "stream",
          "name": "stdout",
          "text": [
            "i love coding\n"
          ]
        }
      ]
    },
    {
      "cell_type": "code",
      "source": [
        "# 31. rfind()\n",
        "text_rfind = \"python is a language\"\n",
        "print(text_rfind.rfind(\"a\"))"
      ],
      "metadata": {
        "colab": {
          "base_uri": "https://localhost:8080/"
        },
        "id": "NQm0X6VAVar0",
        "outputId": "9d8ade74-7065-45ba-a0d5-3fb1a3a1904c"
      },
      "execution_count": 65,
      "outputs": [
        {
          "output_type": "stream",
          "name": "stdout",
          "text": [
            "17\n"
          ]
        }
      ]
    },
    {
      "cell_type": "code",
      "source": [
        "# 32. rindex()\n",
        "text_rindex = \"hello python!\"\n",
        "print(text_rindex.rindex(\"o\"))"
      ],
      "metadata": {
        "colab": {
          "base_uri": "https://localhost:8080/"
        },
        "id": "__fNQ-0xVapt",
        "outputId": "095497bc-7987-4de6-e968-908dd9567098"
      },
      "execution_count": 66,
      "outputs": [
        {
          "output_type": "stream",
          "name": "stdout",
          "text": [
            "10\n"
          ]
        }
      ]
    },
    {
      "cell_type": "code",
      "source": [
        "# 33. rjust()\n",
        "text_rjust = \"ratul\"\n",
        "print(text_rjust.rjust(10, '-'))"
      ],
      "metadata": {
        "colab": {
          "base_uri": "https://localhost:8080/"
        },
        "id": "3LPYb2a0Vans",
        "outputId": "e07a478c-86c4-4859-d33d-02400fd05606"
      },
      "execution_count": 67,
      "outputs": [
        {
          "output_type": "stream",
          "name": "stdout",
          "text": [
            "-----ratul\n"
          ]
        }
      ]
    },
    {
      "cell_type": "code",
      "source": [
        "# 34. rpartition()\n",
        "text_rpartition = \"welcome to python programming\"\n",
        "print(text_rpartition.rpartition(\"to\"))"
      ],
      "metadata": {
        "colab": {
          "base_uri": "https://localhost:8080/"
        },
        "id": "HIo5MBigVale",
        "outputId": "2ccf605e-d4c7-41cd-b1be-66202d6367d3"
      },
      "execution_count": 68,
      "outputs": [
        {
          "output_type": "stream",
          "name": "stdout",
          "text": [
            "('welcome ', 'to', ' python programming')\n"
          ]
        }
      ]
    },
    {
      "cell_type": "code",
      "source": [
        "# 35. rsplit()\n",
        "text_rsplit = \"apple, mango, banana\"\n",
        "print(text_rsplit.rsplit(\", \", 1))"
      ],
      "metadata": {
        "colab": {
          "base_uri": "https://localhost:8080/"
        },
        "id": "hQvgDSw5VajU",
        "outputId": "2cdcef66-7d2b-4240-fa9e-e7d67eb9475f"
      },
      "execution_count": 69,
      "outputs": [
        {
          "output_type": "stream",
          "name": "stdout",
          "text": [
            "['apple, mango', 'banana']\n"
          ]
        }
      ]
    },
    {
      "cell_type": "code",
      "source": [
        "# 36. rstrip()\n",
        "text_rstrip = \"python   \"\n",
        "print(text_rstrip.rstrip())"
      ],
      "metadata": {
        "colab": {
          "base_uri": "https://localhost:8080/"
        },
        "id": "vemMs_iIVahU",
        "outputId": "30cda80c-ebbf-4c58-d008-9af4997e9d6c"
      },
      "execution_count": 70,
      "outputs": [
        {
          "output_type": "stream",
          "name": "stdout",
          "text": [
            "python\n"
          ]
        }
      ]
    },
    {
      "cell_type": "code",
      "source": [
        "# 37. split()\n",
        "text_split = \"ratul loves python\"\n",
        "print(text_split.split())"
      ],
      "metadata": {
        "colab": {
          "base_uri": "https://localhost:8080/"
        },
        "id": "PWMzZD0bVafE",
        "outputId": "9f65eaa7-4234-4980-d212-9ba50eb6129d"
      },
      "execution_count": 71,
      "outputs": [
        {
          "output_type": "stream",
          "name": "stdout",
          "text": [
            "['ratul', 'loves', 'python']\n"
          ]
        }
      ]
    },
    {
      "cell_type": "code",
      "source": [
        "# 38. splitlines()\n",
        "text_splitlines = \"Ratul\\nloves\\nPython\"\n",
        "print(text_splitlines.splitlines())"
      ],
      "metadata": {
        "colab": {
          "base_uri": "https://localhost:8080/"
        },
        "id": "wCTXPHr7Vac1",
        "outputId": "0a3049cd-49a9-494d-8133-e831fd1f67f2"
      },
      "execution_count": 72,
      "outputs": [
        {
          "output_type": "stream",
          "name": "stdout",
          "text": [
            "['Ratul', 'loves', 'Python']\n"
          ]
        }
      ]
    },
    {
      "cell_type": "code",
      "source": [
        "# 39. startswith()\n",
        "text_startswith = \"ratul is learning python\"\n",
        "print(text_startswith.startswith(\"ratul\"))"
      ],
      "metadata": {
        "colab": {
          "base_uri": "https://localhost:8080/"
        },
        "id": "3xuIBhokVaV0",
        "outputId": "96b40702-bb54-43fc-f0da-3c88ba9f121e"
      },
      "execution_count": 73,
      "outputs": [
        {
          "output_type": "stream",
          "name": "stdout",
          "text": [
            "True\n"
          ]
        }
      ]
    },
    {
      "cell_type": "code",
      "source": [
        "# 40. strip()\n",
        "text_strip = \"   python programming   \"\n",
        "print(text_strip.strip())"
      ],
      "metadata": {
        "colab": {
          "base_uri": "https://localhost:8080/"
        },
        "id": "vSw6QQeFWVTd",
        "outputId": "72428ee4-693f-42d2-8a57-8b0b3a3a9668"
      },
      "execution_count": 74,
      "outputs": [
        {
          "output_type": "stream",
          "name": "stdout",
          "text": [
            "python programming\n"
          ]
        }
      ]
    },
    {
      "cell_type": "code",
      "source": [
        "# 41. swapcase()\n",
        "text_swapcase = \"PyThoN CoDiNg\"\n",
        "print(text_swapcase.swapcase())"
      ],
      "metadata": {
        "colab": {
          "base_uri": "https://localhost:8080/"
        },
        "id": "phY5-yX8WVL0",
        "outputId": "da90601d-63dd-4455-fdc3-f3c309e89546"
      },
      "execution_count": 75,
      "outputs": [
        {
          "output_type": "stream",
          "name": "stdout",
          "text": [
            "pYtHOn cOdInG\n"
          ]
        }
      ]
    },
    {
      "cell_type": "code",
      "source": [
        "# 42. title()\n",
        "text_title = \"ratul loves python\"\n",
        "print(text_title.title())"
      ],
      "metadata": {
        "colab": {
          "base_uri": "https://localhost:8080/"
        },
        "id": "6fa58rfpWVH9",
        "outputId": "832625a6-6a7d-466d-9381-844418c99d5f"
      },
      "execution_count": 76,
      "outputs": [
        {
          "output_type": "stream",
          "name": "stdout",
          "text": [
            "Ratul Loves Python\n"
          ]
        }
      ]
    },
    {
      "cell_type": "code",
      "source": [
        "# 43. upper()\n",
        "text_upper = \"ratul loves python\"\n",
        "print(text_upper.upper())"
      ],
      "metadata": {
        "colab": {
          "base_uri": "https://localhost:8080/"
        },
        "id": "4RcYLnUOWVCM",
        "outputId": "86745f21-7483-450e-983b-7cbf5a010740"
      },
      "execution_count": 77,
      "outputs": [
        {
          "output_type": "stream",
          "name": "stdout",
          "text": [
            "RATUL LOVES PYTHON\n"
          ]
        }
      ]
    },
    {
      "cell_type": "code",
      "source": [
        "# 44. zfill()\n",
        "text_zfill = \"8\"\n",
        "print(text_zfill.zfill(3))"
      ],
      "metadata": {
        "colab": {
          "base_uri": "https://localhost:8080/"
        },
        "id": "Pv9Jys-xWU8c",
        "outputId": "5478cc52-8420-4e28-875a-933db40129cb"
      },
      "execution_count": 78,
      "outputs": [
        {
          "output_type": "stream",
          "name": "stdout",
          "text": [
            "008\n"
          ]
        }
      ]
    }
  ]
}