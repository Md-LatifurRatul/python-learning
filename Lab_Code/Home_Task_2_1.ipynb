{
  "cells": [
    {
      "cell_type": "code",
      "execution_count": 1,
      "metadata": {
        "colab": {
          "base_uri": "https://localhost:8080/"
        },
        "id": "T7oxfQhHfL_3",
        "outputId": "3c82e278-49e7-4e7e-b7f6-2e79857bb213"
      },
      "outputs": [
        {
          "output_type": "stream",
          "name": "stdout",
          "text": [
            "['Ratul', 'Python', 'Islam', 'Machine Learning']\n"
          ]
        }
      ],
      "source": [
        "# List\n",
        "mylist = [\"Ratul\", \"Python\", \"Islam\"]\n",
        "mylist.append(\"Machine Learning\")\n",
        "print(mylist)"
      ]
    },
    {
      "cell_type": "code",
      "execution_count": 2,
      "metadata": {
        "colab": {
          "base_uri": "https://localhost:8080/"
        },
        "id": "rR0Cbd-3fL_4",
        "outputId": "7d8ea681-e23f-4ac6-bea1-bd0405a668f8"
      },
      "outputs": [
        {
          "output_type": "stream",
          "name": "stdout",
          "text": [
            "[]\n"
          ]
        }
      ],
      "source": [
        "mylist.clear()\n",
        "print(mylist)"
      ]
    },
    {
      "cell_type": "code",
      "execution_count": 3,
      "metadata": {
        "colab": {
          "base_uri": "https://localhost:8080/"
        },
        "id": "RpBME0RhfL_4",
        "outputId": "a0f3412b-d039-4e18-885e-a1b37f274f59"
      },
      "outputs": [
        {
          "output_type": "stream",
          "name": "stdout",
          "text": [
            "['Banana', 'Orange', 'Yellow']\n"
          ]
        }
      ],
      "source": [
        "list1 = [\"Banana\", \"Orange\", \"Yellow\"]\n",
        "list2 = list1.copy()\n",
        "print(list2)"
      ]
    },
    {
      "cell_type": "code",
      "execution_count": 4,
      "metadata": {
        "colab": {
          "base_uri": "https://localhost:8080/"
        },
        "id": "1wzya9ykfL_4",
        "outputId": "155d39ce-1dcd-4ae5-8ef6-06e7fc69a83e"
      },
      "outputs": [
        {
          "output_type": "stream",
          "name": "stdout",
          "text": [
            "3\n"
          ]
        }
      ],
      "source": [
        "countList = [1, 2, 3, 4, 2, 2, 4, 5]\n",
        "mycount = countList.count(2)\n",
        "print(mycount)"
      ]
    },
    {
      "cell_type": "code",
      "execution_count": 5,
      "metadata": {
        "colab": {
          "base_uri": "https://localhost:8080/"
        },
        "id": "kr34oan5fL_4",
        "outputId": "cbea5e34-7000-47b1-f05f-cc16d85e4bec"
      },
      "outputs": [
        {
          "output_type": "stream",
          "name": "stdout",
          "text": [
            "['Red', 'Yellow', 'Megenda', 'Green']\n"
          ]
        }
      ],
      "source": [
        "insertList = [\"Red\", \"Yellow\", \"Green\"]\n",
        "insertList.insert(2, \"Megenda\")\n",
        "print(insertList)"
      ]
    },
    {
      "cell_type": "code",
      "execution_count": 6,
      "metadata": {
        "colab": {
          "base_uri": "https://localhost:8080/"
        },
        "id": "RuX92Np4fL_4",
        "outputId": "0d2e1da2-d8f1-4f95-9f44-3be44835620e"
      },
      "outputs": [
        {
          "output_type": "stream",
          "name": "stdout",
          "text": [
            "['Red', 'Yellow', 'Megenda', 'Green', 'Blue', 'Amber']\n"
          ]
        }
      ],
      "source": [
        "topicList = [\"Blue\", \"Amber\"]\n",
        "insertList.extend(topicList)\n",
        "print(insertList)"
      ]
    },
    {
      "cell_type": "code",
      "execution_count": 7,
      "metadata": {
        "colab": {
          "base_uri": "https://localhost:8080/"
        },
        "id": "mhSDwqcgfL_4",
        "outputId": "a2c67830-4388-4b91-8afa-d34798ab8272"
      },
      "outputs": [
        {
          "output_type": "stream",
          "name": "stdout",
          "text": [
            "['NLP', 'AI', 'Python']\n"
          ]
        }
      ],
      "source": [
        "pythonList = [\"Python\", \"NLP\", \"AI\", \"Python\"]\n",
        "pythonList.remove(\"Python\")\n",
        "print(pythonList)"
      ]
    },
    {
      "cell_type": "code",
      "execution_count": 8,
      "metadata": {
        "colab": {
          "base_uri": "https://localhost:8080/"
        },
        "id": "ia130cL-fL_4",
        "outputId": "efd117f1-9781-4b70-daf7-af556a55c5c1"
      },
      "outputs": [
        {
          "output_type": "stream",
          "name": "stdout",
          "text": [
            "['banana', 'cherry']\n"
          ]
        }
      ],
      "source": [
        "thislist = [\"apple\", \"banana\", \"cherry\"]\n",
        "thislist.pop(0)\n",
        "print(thislist)\n"
      ]
    },
    {
      "cell_type": "code",
      "execution_count": 9,
      "metadata": {
        "colab": {
          "base_uri": "https://localhost:8080/"
        },
        "id": "OYDhx_wIfL_5",
        "outputId": "fe7bba0d-acf8-4842-820d-4c756e29e710"
      },
      "outputs": [
        {
          "output_type": "stream",
          "name": "stdout",
          "text": [
            "['banana']\n"
          ]
        }
      ],
      "source": [
        "thislist.pop()\n",
        "print(thislist)"
      ]
    },
    {
      "cell_type": "code",
      "execution_count": 10,
      "metadata": {
        "colab": {
          "base_uri": "https://localhost:8080/"
        },
        "id": "U67YmsIofL_5",
        "outputId": "4cf29ce6-b8fb-416b-c5a9-802d65396406"
      },
      "outputs": [
        {
          "output_type": "stream",
          "name": "stdout",
          "text": [
            "1\n"
          ]
        }
      ],
      "source": [
        "listIndex = [0, 2, 2, 4, 5, 1]\n",
        "numIndex = listIndex.index(2)\n",
        "print(numIndex)"
      ]
    },
    {
      "cell_type": "code",
      "execution_count": 11,
      "metadata": {
        "colab": {
          "base_uri": "https://localhost:8080/"
        },
        "id": "SO5WkPKEfL_5",
        "outputId": "fcf68270-78da-49ea-e81f-cada532a4809"
      },
      "outputs": [
        {
          "output_type": "stream",
          "name": "stdout",
          "text": [
            "[5, 4, 3, 2, 1, 0]\n"
          ]
        }
      ],
      "source": [
        "listItem = [0, 1, 2, 3, 4, 5]\n",
        "listItem.reverse()\n",
        "print(listItem)"
      ]
    },
    {
      "cell_type": "code",
      "execution_count": 12,
      "metadata": {
        "colab": {
          "base_uri": "https://localhost:8080/"
        },
        "id": "46AdwFqzfL_5",
        "outputId": "1e047744-db1e-49d9-9dbc-943b94d83041"
      },
      "outputs": [
        {
          "output_type": "stream",
          "name": "stdout",
          "text": [
            "[0, 1, 2, 3, 5, 7, 9, 11]\n"
          ]
        }
      ],
      "source": [
        "numList = [9, 11, 2, 3, 5, 7, 0, 1]\n",
        "numList.sort()\n",
        "print(numList)"
      ]
    },
    {
      "cell_type": "code",
      "execution_count": 13,
      "metadata": {
        "colab": {
          "base_uri": "https://localhost:8080/"
        },
        "id": "Q2KW_JVufL_5",
        "outputId": "d0e93288-25fe-4fb3-c487-df83bcc35369"
      },
      "outputs": [
        {
          "output_type": "stream",
          "name": "stdout",
          "text": [
            "[100, 82, 65, 50, 23]\n"
          ]
        }
      ],
      "source": [
        "numList1 = [100, 50, 65, 82, 23]\n",
        "numList1.sort(reverse = True)\n",
        "print(numList1)"
      ]
    },
    {
      "cell_type": "code",
      "execution_count": 14,
      "metadata": {
        "id": "OnQp7MkzfL_5"
      },
      "outputs": [],
      "source": [
        "del numList1"
      ]
    },
    {
      "cell_type": "code",
      "execution_count": 15,
      "metadata": {
        "colab": {
          "base_uri": "https://localhost:8080/"
        },
        "id": "wMXdUX_QfL_5",
        "outputId": "d113e15a-ce29-4c75-cfd8-037bd4cadd3b"
      },
      "outputs": [
        {
          "output_type": "stream",
          "name": "stdout",
          "text": [
            "{'Neural', 'NLP', 'AI', 'Python'}\n"
          ]
        }
      ],
      "source": [
        "# Set\n",
        "\n",
        "myset = {\"Python\", \"NLP\", \"AI\"}\n",
        "myset.add(\"Neural\")\n",
        "print(myset)"
      ]
    },
    {
      "cell_type": "code",
      "execution_count": 16,
      "metadata": {
        "colab": {
          "base_uri": "https://localhost:8080/"
        },
        "id": "p4m5rMnyfL_5",
        "outputId": "c8f39f90-dc65-4022-f4e6-921bbdbb6f3f"
      },
      "outputs": [
        {
          "output_type": "stream",
          "name": "stdout",
          "text": [
            "set()\n"
          ]
        }
      ],
      "source": [
        "myset.clear()\n",
        "print(myset)"
      ]
    },
    {
      "cell_type": "code",
      "execution_count": 17,
      "metadata": {
        "colab": {
          "base_uri": "https://localhost:8080/"
        },
        "id": "bn8YmNusfL_5",
        "outputId": "f54f215a-faaf-4c44-b5bc-cbfb85705644"
      },
      "outputs": [
        {
          "output_type": "stream",
          "name": "stdout",
          "text": [
            "{'World', 'Ratul', 'Python'}\n"
          ]
        }
      ],
      "source": [
        "set1 = {\"World\", \"Ratul\", \"Python\"}\n",
        "set2 = set1.copy()\n",
        "print(set2)"
      ]
    },
    {
      "cell_type": "code",
      "execution_count": 18,
      "metadata": {
        "colab": {
          "base_uri": "https://localhost:8080/"
        },
        "id": "lVx34l99fL_5",
        "outputId": "92f60a14-3a4e-4593-eb2d-2d39f49f4e0c"
      },
      "outputs": [
        {
          "output_type": "stream",
          "name": "stdout",
          "text": [
            "{'cherry', 'banana'}\n"
          ]
        }
      ],
      "source": [
        "setItem1 = {\"apple\", \"banana\", \"cherry\"}\n",
        "setItem2 = {\"google\", \"microsoft\", \"apple\"}\n",
        "setItem3 = setItem1.difference(setItem2)\n",
        "print(setItem3)"
      ]
    },
    {
      "cell_type": "code",
      "execution_count": 19,
      "metadata": {
        "colab": {
          "base_uri": "https://localhost:8080/"
        },
        "id": "Ngen2VlvfL_5",
        "outputId": "3e1979a1-bba7-4f77-c24c-f72c5e3af761"
      },
      "outputs": [
        {
          "output_type": "stream",
          "name": "stdout",
          "text": [
            "{'Green', 'Yellow'}\n"
          ]
        }
      ],
      "source": [
        "setDiff1 = {\"Red\", \"Yellow\", \"Green\"}\n",
        "setDiff2 = {\"Amber\", \"Blue\", \"Red\"}\n",
        "setDiff1.difference_update(setDiff2)\n",
        "print(setDiff1)"
      ]
    },
    {
      "cell_type": "code",
      "execution_count": 20,
      "metadata": {
        "colab": {
          "base_uri": "https://localhost:8080/"
        },
        "id": "1mDdl-tifL_6",
        "outputId": "858a4654-f8fc-4898-ef3a-12890e8aee00"
      },
      "outputs": [
        {
          "output_type": "stream",
          "name": "stdout",
          "text": [
            "{'Green', 'Blue'}\n"
          ]
        }
      ],
      "source": [
        "itemSet = {\"Blue\", \"Yellow\", \"Green\"}\n",
        "itemSet.discard(\"Yellow\")\n",
        "print(itemSet)"
      ]
    },
    {
      "cell_type": "code",
      "execution_count": 21,
      "metadata": {
        "colab": {
          "base_uri": "https://localhost:8080/"
        },
        "id": "6lcFzUdsfL_6",
        "outputId": "d30d4273-1680-4c26-bbb8-899120272b7e"
      },
      "outputs": [
        {
          "output_type": "stream",
          "name": "stdout",
          "text": [
            "{'Python'}\n"
          ]
        }
      ],
      "source": [
        "setIntersect1 = {\"Python\", \"NLP\", \"AI\"}\n",
        "setIntersect2 = {\"Robot\", \"Python\"}\n",
        "setIntersect3 = setIntersect1.intersection(setIntersect2)\n",
        "print(setIntersect3)"
      ]
    },
    {
      "cell_type": "code",
      "execution_count": 22,
      "metadata": {
        "colab": {
          "base_uri": "https://localhost:8080/"
        },
        "id": "eIWY_qlxfL_6",
        "outputId": "7131d82a-76c3-4364-ed32-301132a86fa0"
      },
      "outputs": [
        {
          "output_type": "stream",
          "name": "stdout",
          "text": [
            "{1, 4}\n"
          ]
        }
      ],
      "source": [
        "numSet1 = {1, 2, 4, 5}\n",
        "numSet2 = {3, 4, 1}\n",
        "numSet1.intersection_update(numSet2)\n",
        "print(numSet1)"
      ]
    },
    {
      "cell_type": "code",
      "execution_count": 23,
      "metadata": {
        "colab": {
          "base_uri": "https://localhost:8080/"
        },
        "id": "kpCpRB87fL_6",
        "outputId": "dcc00bd0-a34b-4f65-8d02-e093641b9e40"
      },
      "outputs": [
        {
          "output_type": "stream",
          "name": "stdout",
          "text": [
            "True\n"
          ]
        }
      ],
      "source": [
        "setNum1 = {2, 3, 5}\n",
        "setNum2 = {1, 4, 6}\n",
        "setNum3 = setNum1.isdisjoint(setNum2)\n",
        "print(setNum3)"
      ]
    },
    {
      "cell_type": "code",
      "execution_count": 24,
      "metadata": {
        "colab": {
          "base_uri": "https://localhost:8080/"
        },
        "id": "EbgQvbptfL_6",
        "outputId": "cefe03a6-7d92-432a-fd1b-28ae42b2728d"
      },
      "outputs": [
        {
          "output_type": "stream",
          "name": "stdout",
          "text": [
            "True\n"
          ]
        }
      ],
      "source": [
        "setAlph = {\"a\", \"b\", \"c\"}\n",
        "setAlph1 = {\"f\", \"e\", \"d\", \"c\", \"b\", \"a\"}\n",
        "setAlph2 = setAlph.issubset(setAlph1)\n",
        "print(setAlph2)"
      ]
    },
    {
      "cell_type": "code",
      "execution_count": 25,
      "metadata": {
        "colab": {
          "base_uri": "https://localhost:8080/"
        },
        "id": "mdchZQ15fL_6",
        "outputId": "b70f89a2-df47-417f-ab73-6313855bc62d"
      },
      "outputs": [
        {
          "output_type": "stream",
          "name": "stdout",
          "text": [
            "True\n"
          ]
        }
      ],
      "source": [
        "setSup = {\"Hello\", \"Python\", \"World\", \"NLP\"}\n",
        "setSup1 = {\"Python\", \"Hello\", \"NLP\"}\n",
        "setSup2 = setSup.issuperset(setSup1)\n",
        "print(setSup2)"
      ]
    },
    {
      "cell_type": "code",
      "execution_count": 26,
      "metadata": {
        "colab": {
          "base_uri": "https://localhost:8080/"
        },
        "id": "z8yuvDyEfL_6",
        "outputId": "321b2d86-3717-43c3-d826-be9e0e1a48d6"
      },
      "outputs": [
        {
          "output_type": "stream",
          "name": "stdout",
          "text": [
            "{'Yellow', 'Red', 'Magenda'}\n"
          ]
        }
      ],
      "source": [
        "setColor = {\"Magenda\", \"Red\", \"Yellow\", \"Green\"}\n",
        "setColor.pop()\n",
        "print(setColor)"
      ]
    },
    {
      "cell_type": "code",
      "execution_count": 27,
      "metadata": {
        "colab": {
          "base_uri": "https://localhost:8080/"
        },
        "id": "d6EtIR5WfL_6",
        "outputId": "cf2c2679-af41-4211-ef87-5c27d9aa5574"
      },
      "outputs": [
        {
          "output_type": "stream",
          "name": "stdout",
          "text": [
            "{'cherry', 'apple'}\n"
          ]
        }
      ],
      "source": [
        "setfruits = {\"apple\", \"banana\", \"cherry\"}\n",
        "setfruits.remove(\"banana\")\n",
        "print(setfruits)"
      ]
    },
    {
      "cell_type": "code",
      "execution_count": 28,
      "metadata": {
        "colab": {
          "base_uri": "https://localhost:8080/"
        },
        "id": "dAtGlwDpfL_6",
        "outputId": "d621dc89-90cc-49ed-8691-78329f8ef877"
      },
      "outputs": [
        {
          "output_type": "stream",
          "name": "stdout",
          "text": [
            "{'cherry', 'google', 'banana', 'microsoft'}\n"
          ]
        }
      ],
      "source": [
        "setSym1 = {\"apple\", \"banana\", \"cherry\"}\n",
        "setSym2 = {\"google\", \"microsoft\", \"apple\"}\n",
        "setSym3 = setSym1.symmetric_difference(setSym2)\n",
        "print(setSym3)"
      ]
    },
    {
      "cell_type": "code",
      "execution_count": 29,
      "metadata": {
        "colab": {
          "base_uri": "https://localhost:8080/"
        },
        "id": "OZAj5C-RfL_6",
        "outputId": "0b255383-dde3-4bc5-a966-01df8df90e6e"
      },
      "outputs": [
        {
          "output_type": "stream",
          "name": "stdout",
          "text": [
            "{'cherry', 'google', 'banana', 'microsoft'}\n"
          ]
        }
      ],
      "source": [
        "setx = {\"apple\", \"banana\", \"cherry\"}\n",
        "sety = {\"google\", \"microsoft\", \"apple\"}\n",
        "setx.symmetric_difference_update(sety)\n",
        "print(setx)"
      ]
    },
    {
      "cell_type": "code",
      "execution_count": 30,
      "metadata": {
        "colab": {
          "base_uri": "https://localhost:8080/"
        },
        "id": "aeIJ8ZfDfL_6",
        "outputId": "060e4066-955f-424e-d1b8-ed9b39fc3111"
      },
      "outputs": [
        {
          "output_type": "stream",
          "name": "stdout",
          "text": [
            "{1, 2, 3, 4, 5, 6}\n"
          ]
        }
      ],
      "source": [
        "setNumbered = {1, 2, 4, 5}\n",
        "setNumbered1 = {3, 6, 2}\n",
        "setNumbered2 = setNumbered.union(setNumbered1)\n",
        "print(setNumbered2)"
      ]
    },
    {
      "cell_type": "code",
      "execution_count": 31,
      "metadata": {
        "colab": {
          "base_uri": "https://localhost:8080/"
        },
        "id": "zDmm2sdwfL_6",
        "outputId": "721e1910-890b-4207-ff93-88e07b1f7a41"
      },
      "outputs": [
        {
          "output_type": "stream",
          "name": "stdout",
          "text": [
            "{1, 2, 3, 4, 5, 6}\n"
          ]
        }
      ],
      "source": [
        "setUp = {1, 2, 4, 5}\n",
        "setUp1 = {3, 6, 2}\n",
        "setUp.update(setUp1)\n",
        "print(setUp)"
      ]
    },
    {
      "cell_type": "code",
      "execution_count": 32,
      "metadata": {
        "colab": {
          "base_uri": "https://localhost:8080/"
        },
        "id": "887lB3ItfL_6",
        "outputId": "e11319ba-8f81-4d2b-d153-6953b934f68b"
      },
      "outputs": [
        {
          "output_type": "stream",
          "name": "stdout",
          "text": [
            "2\n"
          ]
        }
      ],
      "source": [
        "# Tuple\n",
        "\n",
        "thistuple = (1, 3, 7, 8, 7, 5, 4, 6, 8, 5)\n",
        "countTuple = thistuple.count(5)\n",
        "print(countTuple)\n"
      ]
    },
    {
      "cell_type": "code",
      "execution_count": 33,
      "metadata": {
        "colab": {
          "base_uri": "https://localhost:8080/"
        },
        "id": "uKQp0EzRfL_6",
        "outputId": "e8d991fb-e43a-4b53-b095-4fb48f3a0408"
      },
      "outputs": [
        {
          "output_type": "stream",
          "name": "stdout",
          "text": [
            "3\n"
          ]
        }
      ],
      "source": [
        "thistuple1 = (1, 3, 7, 8, 7, 5, 4, 6, 8, 5)\n",
        "indexTuple = thistuple.index(8)\n",
        "print(indexTuple)"
      ]
    }
  ],
  "metadata": {
    "kernelspec": {
      "display_name": "Python 3",
      "language": "python",
      "name": "python3"
    },
    "language_info": {
      "codemirror_mode": {
        "name": "ipython",
        "version": 3
      },
      "file_extension": ".py",
      "mimetype": "text/x-python",
      "name": "python",
      "nbconvert_exporter": "python",
      "pygments_lexer": "ipython3",
      "version": "3.13.0"
    },
    "colab": {
      "provenance": []
    }
  },
  "nbformat": 4,
  "nbformat_minor": 0
}