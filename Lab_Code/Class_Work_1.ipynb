{
  "nbformat": 4,
  "nbformat_minor": 0,
  "metadata": {
    "colab": {
      "provenance": []
    },
    "kernelspec": {
      "name": "python3",
      "display_name": "Python 3"
    },
    "language_info": {
      "name": "python"
    }
  },
  "cells": [
    {
      "cell_type": "code",
      "execution_count": 1,
      "metadata": {
        "colab": {
          "base_uri": "https://localhost:8080/"
        },
        "id": "k3N4sUTY5hpi",
        "outputId": "d8a25e47-35dd-4562-8b90-1b510240e537"
      },
      "outputs": [
        {
          "output_type": "stream",
          "name": "stdout",
          "text": [
            "12\n"
          ]
        }
      ],
      "source": [
        "string_var = \"Hello World!\"\n",
        "print(len(string_var))"
      ]
    },
    {
      "cell_type": "code",
      "source": [
        "print(string_var * 10)"
      ],
      "metadata": {
        "id": "Rr7eAEYT60RE",
        "colab": {
          "base_uri": "https://localhost:8080/"
        },
        "outputId": "725e1da8-be89-48b9-b400-aab5c911727b"
      },
      "execution_count": 2,
      "outputs": [
        {
          "output_type": "stream",
          "name": "stdout",
          "text": [
            "Hello World!Hello World!Hello World!Hello World!Hello World!Hello World!Hello World!Hello World!Hello World!Hello World!\n"
          ]
        }
      ]
    },
    {
      "cell_type": "code",
      "source": [
        "print(string_var[0])"
      ],
      "metadata": {
        "id": "zRfcSRzu609T",
        "colab": {
          "base_uri": "https://localhost:8080/"
        },
        "outputId": "d07b038c-592a-4cde-e894-3a7ec1352554"
      },
      "execution_count": 3,
      "outputs": [
        {
          "output_type": "stream",
          "name": "stdout",
          "text": [
            "H\n"
          ]
        }
      ]
    },
    {
      "cell_type": "code",
      "source": [
        "print(string_var[:3])"
      ],
      "metadata": {
        "id": "LVvjRleJ61YY",
        "colab": {
          "base_uri": "https://localhost:8080/"
        },
        "outputId": "d702e70f-6e20-4522-b09c-426eac4f522e"
      },
      "execution_count": 4,
      "outputs": [
        {
          "output_type": "stream",
          "name": "stdout",
          "text": [
            "Hel\n"
          ]
        }
      ]
    },
    {
      "cell_type": "code",
      "source": [
        "print(string_var[-3:])"
      ],
      "metadata": {
        "id": "AHKrxlE466BE",
        "colab": {
          "base_uri": "https://localhost:8080/"
        },
        "outputId": "710861fa-a2c6-4e09-d1f8-0d3479e01b16"
      },
      "execution_count": 5,
      "outputs": [
        {
          "output_type": "stream",
          "name": "stdout",
          "text": [
            "ld!\n"
          ]
        }
      ]
    },
    {
      "cell_type": "code",
      "source": [
        "if len(string_var) >= 7:\n",
        "    print(string_var[6])\n",
        "else:\n",
        "    print(\"The string is too short for a seventh character.\")"
      ],
      "metadata": {
        "id": "mMLuOC2b66SE",
        "colab": {
          "base_uri": "https://localhost:8080/"
        },
        "outputId": "d1b77e38-0545-47ef-d7c6-a7bb8fe6851e"
      },
      "execution_count": 6,
      "outputs": [
        {
          "output_type": "stream",
          "name": "stdout",
          "text": [
            "W\n"
          ]
        }
      ]
    },
    {
      "cell_type": "code",
      "source": [
        "print(string_var[1:-1])"
      ],
      "metadata": {
        "id": "bZI-NGi766e6",
        "colab": {
          "base_uri": "https://localhost:8080/"
        },
        "outputId": "b8156ccb-3e66-4956-ba04-dde64f9ff7c3"
      },
      "execution_count": 7,
      "outputs": [
        {
          "output_type": "stream",
          "name": "stdout",
          "text": [
            "ello World\n"
          ]
        }
      ]
    },
    {
      "cell_type": "code",
      "source": [
        "print(string_var.upper())"
      ],
      "metadata": {
        "colab": {
          "base_uri": "https://localhost:8080/"
        },
        "id": "FGzg73PRfevk",
        "outputId": "af47a20d-c516-45a0-ba20-4809f41442ed"
      },
      "execution_count": 8,
      "outputs": [
        {
          "output_type": "stream",
          "name": "stdout",
          "text": [
            "HELLO WORLD!\n"
          ]
        }
      ]
    },
    {
      "cell_type": "code",
      "source": [
        "print(string_var.replace('a', 'e'))"
      ],
      "metadata": {
        "colab": {
          "base_uri": "https://localhost:8080/"
        },
        "id": "o3xGVgYBiJkZ",
        "outputId": "6fbf1c93-e098-462f-a5c6-972f929060f4"
      },
      "execution_count": 10,
      "outputs": [
        {
          "output_type": "stream",
          "name": "stdout",
          "text": [
            "Hello World!\n"
          ]
        }
      ]
    },
    {
      "cell_type": "code",
      "source": [
        "print(''.join(' ' if char.isalpha() else char for char in string_var))"
      ],
      "metadata": {
        "colab": {
          "base_uri": "https://localhost:8080/"
        },
        "id": "GEmZoi4diEWw",
        "outputId": "265a0538-36bc-4f71-b412-5616318c9472"
      },
      "execution_count": 11,
      "outputs": [
        {
          "output_type": "stream",
          "name": "stdout",
          "text": [
            "           !\n"
          ]
        }
      ]
    },
    {
      "cell_type": "code",
      "source": [
        "user_string = input(\"Enter a string: \")\n",
        "word_estimate = user_string.count(' ') + 1\n",
        "print(word_estimate)"
      ],
      "metadata": {
        "colab": {
          "base_uri": "https://localhost:8080/"
        },
        "id": "SlzKFPMmi8fp",
        "outputId": "a2a0d5b3-1a6b-4ce4-b06b-c7706a7efa3c"
      },
      "execution_count": 14,
      "outputs": [
        {
          "output_type": "stream",
          "name": "stdout",
          "text": [
            "Enter a string: Hello Ratul\n",
            "2\n"
          ]
        }
      ]
    },
    {
      "cell_type": "markdown",
      "source": [],
      "metadata": {
        "id": "x3WWvnY5610D"
      }
    }
  ]
}