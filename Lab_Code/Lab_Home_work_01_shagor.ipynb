{
 "cells": [
  {
   "cell_type": "code",
   "execution_count": 1,
   "metadata": {
    "id": "WZIjsJzkw8FW"
   },
   "outputs": [],
   "source": [
    "# String home work"
   ]
  },
  {
   "cell_type": "code",
   "execution_count": 2,
   "metadata": {
    "colab": {
     "base_uri": "https://localhost:8080/"
    },
    "id": "D408_aJ7xFUT",
    "outputId": "ffa6e889-c516-4384-e3f1-d3f16ebe1d7b"
   },
   "outputs": [
    {
     "name": "stdout",
     "output_type": "stream",
     "text": [
      "Md rtl islam\n"
     ]
    }
   ],
   "source": [
    "#capitalize()method\n",
    "mystring=\"md rtl islam\"\n",
    "print(mystring.capitalize())"
   ]
  },
  {
   "cell_type": "code",
   "execution_count": 3,
   "metadata": {
    "colab": {
     "base_uri": "https://localhost:8080/"
    },
    "id": "ut2T2CZ3yaqS",
    "outputId": "572aca3c-83c9-4c5f-ef17-2a1c84fb4752"
   },
   "outputs": [
    {
     "name": "stdout",
     "output_type": "stream",
     "text": [
      "md rtl islam\n"
     ]
    }
   ],
   "source": [
    "#casefold()method\n",
    "mystring=\"MD RTL ISLAM\"\n",
    "print(mystring.casefold())"
   ]
  },
  {
   "cell_type": "code",
   "execution_count": 4,
   "metadata": {
    "colab": {
     "base_uri": "https://localhost:8080/"
    },
    "id": "7ehbwMfpzH_D",
    "outputId": "3f8869fa-b5d9-4339-f696-01b5e7d2e79b"
   },
   "outputs": [
    {
     "name": "stdout",
     "output_type": "stream",
     "text": [
      "                                            Md RTL Islam                                            \n"
     ]
    }
   ],
   "source": [
    "#center()method\n",
    "mystring=\"Md RTL Islam\"\n",
    "print(mystring.center(100))"
   ]
  },
  {
   "cell_type": "code",
   "execution_count": 5,
   "metadata": {
    "colab": {
     "base_uri": "https://localhost:8080/"
    },
    "id": "RfsjWPIaziJx",
    "outputId": "6c1716bc-ab3c-4f42-e8c3-6e9772e4d5f8"
   },
   "outputs": [
    {
     "name": "stdout",
     "output_type": "stream",
     "text": [
      "2\n"
     ]
    }
   ],
   "source": [
    "#count()method\n",
    "mystring=\"Md Rtl Islam Md\"\n",
    "print(mystring.count(\"Md\"))"
   ]
  },
  {
   "cell_type": "code",
   "execution_count": 6,
   "metadata": {
    "colab": {
     "base_uri": "https://localhost:8080/"
    },
    "id": "Rmt_iEQR0N9s",
    "outputId": "408bbf37-17e6-4c1a-ffb8-a8ff4fb814e9"
   },
   "outputs": [
    {
     "name": "stdout",
     "output_type": "stream",
     "text": [
      "b'Md RTL Islam'\n"
     ]
    }
   ],
   "source": [
    "#encode()method\n",
    "mystring=\"Md RTL Islam\"\n",
    "print(mystring.encode())"
   ]
  },
  {
   "cell_type": "code",
   "execution_count": 7,
   "metadata": {
    "colab": {
     "base_uri": "https://localhost:8080/"
    },
    "id": "p063aO_m0vB6",
    "outputId": "267f4c7b-9595-4835-e3b0-e00ff23fbdfe"
   },
   "outputs": [
    {
     "name": "stdout",
     "output_type": "stream",
     "text": [
      "True\n"
     ]
    }
   ],
   "source": [
    "#endswith()method\n",
    "mystring=\"Md Rtl Islam\"\n",
    "print(mystring.endswith(\"Islam\"))"
   ]
  },
  {
   "cell_type": "code",
   "execution_count": 8,
   "metadata": {
    "colab": {
     "base_uri": "https://localhost:8080/"
    },
    "id": "4dXI6iYK1X8p",
    "outputId": "f4b18184-9b18-452f-96bc-d9a1d0464c12"
   },
   "outputs": [
    {
     "name": "stdout",
     "output_type": "stream",
     "text": [
      "Md   Rtl  Islam\n"
     ]
    }
   ],
   "source": [
    "#expandtabs()method\n",
    "mystring=\"Md\\tRtl\\tIslam\"\n",
    "print(mystring.expandtabs(5))"
   ]
  },
  {
   "cell_type": "code",
   "execution_count": 9,
   "metadata": {
    "colab": {
     "base_uri": "https://localhost:8080/"
    },
    "id": "KJ2XSj0d1t0q",
    "outputId": "e0ee02f5-f401-4349-a373-4decd8572876"
   },
   "outputs": [
    {
     "name": "stdout",
     "output_type": "stream",
     "text": [
      "7\n"
     ]
    }
   ],
   "source": [
    "#find()method\n",
    "mystring=\"Md Rtl Islam\"\n",
    "print(mystring.find(\"Islam\"))"
   ]
  },
  {
   "cell_type": "code",
   "execution_count": 10,
   "metadata": {
    "colab": {
     "base_uri": "https://localhost:8080/"
    },
    "id": "J6uM6jwf3fC5",
    "outputId": "fb499389-4066-4727-afed-e068dbd7ba90"
   },
   "outputs": [
    {
     "name": "stdout",
     "output_type": "stream",
     "text": [
      "My name is Rtl, and I am 23\n"
     ]
    }
   ],
   "source": [
    "#format()method\n",
    "mystring = \"My name is {}, and I am {}\"\n",
    "print(mystring.format(\"Rtl\", 23))"
   ]
  },
  {
   "cell_type": "code",
   "execution_count": 11,
   "metadata": {
    "colab": {
     "base_uri": "https://localhost:8080/"
    },
    "id": "84Mqr2cB7D7j",
    "outputId": "e35a54e1-89c3-452a-bdd2-eca9bfea8214"
   },
   "outputs": [
    {
     "name": "stdout",
     "output_type": "stream",
     "text": [
      "7\n"
     ]
    }
   ],
   "source": [
    "#index()method\n",
    "mystring=\"Md Rtl Islam\"\n",
    "print(mystring.index(\"Islam\"))"
   ]
  },
  {
   "cell_type": "code",
   "execution_count": 12,
   "metadata": {
    "colab": {
     "base_uri": "https://localhost:8080/"
    },
    "id": "IsTNzW2v7TWr",
    "outputId": "22fed8b1-0163-4663-b09e-0f33b3efe95c"
   },
   "outputs": [
    {
     "name": "stdout",
     "output_type": "stream",
     "text": [
      "True\n"
     ]
    }
   ],
   "source": [
    "#isalnum()mehtod\n",
    "mystring=\"MdRtl213071037\"\n",
    "print(mystring.isalnum())"
   ]
  },
  {
   "cell_type": "code",
   "execution_count": 13,
   "metadata": {
    "colab": {
     "base_uri": "https://localhost:8080/"
    },
    "id": "A2nbBf5h7wbq",
    "outputId": "536787c9-c728-4071-ff4a-d548382ae905"
   },
   "outputs": [
    {
     "name": "stdout",
     "output_type": "stream",
     "text": [
      "True\n"
     ]
    }
   ],
   "source": [
    "#isalpha()method\n",
    "mystring=\"MdRtl\"\n",
    "print(mystring.isalpha())"
   ]
  },
  {
   "cell_type": "code",
   "execution_count": 14,
   "metadata": {
    "colab": {
     "base_uri": "https://localhost:8080/"
    },
    "id": "C_8sXvmD8Z86",
    "outputId": "62bed61e-d42c-4804-886f-876b28041b72"
   },
   "outputs": [
    {
     "name": "stdout",
     "output_type": "stream",
     "text": [
      "True\n"
     ]
    }
   ],
   "source": [
    "#isascii()method\n",
    "mystring=\"MdRtl37\"\n",
    "print(mystring.isascii())"
   ]
  },
  {
   "cell_type": "code",
   "execution_count": 15,
   "metadata": {
    "colab": {
     "base_uri": "https://localhost:8080/"
    },
    "id": "jpBVrjVp9HUT",
    "outputId": "84b1d592-cc3a-44a1-cac6-7baabf6bff9e"
   },
   "outputs": [
    {
     "name": "stdout",
     "output_type": "stream",
     "text": [
      "True\n"
     ]
    }
   ],
   "source": [
    "#isdecimal()method\n",
    "mystring=\"21307103733\"\n",
    "print(mystring.isdecimal())"
   ]
  },
  {
   "cell_type": "code",
   "execution_count": 16,
   "metadata": {
    "colab": {
     "base_uri": "https://localhost:8080/"
    },
    "id": "SIbO-2HU9eiS",
    "outputId": "8ca88677-d262-4f91-d91d-aaabf5a8bd81"
   },
   "outputs": [
    {
     "name": "stdout",
     "output_type": "stream",
     "text": [
      "True\n"
     ]
    }
   ],
   "source": [
    "#isdigit()method\n",
    "mystring=\"2130710373\"\n",
    "print(mystring.isdigit())"
   ]
  },
  {
   "cell_type": "code",
   "execution_count": 17,
   "metadata": {
    "colab": {
     "base_uri": "https://localhost:8080/"
    },
    "id": "kybWQzxt97RO",
    "outputId": "1bab9ad7-0fed-45d5-b27f-43410e56a489"
   },
   "outputs": [
    {
     "name": "stdout",
     "output_type": "stream",
     "text": [
      "True\n"
     ]
    }
   ],
   "source": [
    "#isidentifier()method\n",
    "mystring=\"MdRtl\"\n",
    "print(mystring.isidentifier())"
   ]
  },
  {
   "cell_type": "code",
   "execution_count": 18,
   "metadata": {
    "colab": {
     "base_uri": "https://localhost:8080/"
    },
    "id": "txkrl4BC-V0w",
    "outputId": "227ebcdd-c0c1-4840-d1d6-590317f673a6"
   },
   "outputs": [
    {
     "name": "stdout",
     "output_type": "stream",
     "text": [
      "True\n"
     ]
    }
   ],
   "source": [
    "#islower()method\n",
    "mystring=\"md rtl islam\"\n",
    "print(mystring.islower())"
   ]
  },
  {
   "cell_type": "code",
   "execution_count": 19,
   "metadata": {
    "colab": {
     "base_uri": "https://localhost:8080/"
    },
    "id": "68i_V6TY-jOF",
    "outputId": "a2d6f3ad-5e07-447a-ec65-98d5c9c8d404"
   },
   "outputs": [
    {
     "name": "stdout",
     "output_type": "stream",
     "text": [
      "True\n"
     ]
    }
   ],
   "source": [
    "#isnumeric()method\n",
    "mystring=\"223071037334\"\n",
    "print(mystring.isnumeric())"
   ]
  },
  {
   "cell_type": "code",
   "execution_count": 20,
   "metadata": {
    "colab": {
     "base_uri": "https://localhost:8080/"
    },
    "id": "O8SkcytZ-t2i",
    "outputId": "537bdfa1-6f35-44fd-8666-eac7854aaf9c"
   },
   "outputs": [
    {
     "name": "stdout",
     "output_type": "stream",
     "text": [
      "True\n"
     ]
    }
   ],
   "source": [
    "#isprintable()method\n",
    "mystring=\"Md Rtl Islam\"\n",
    "print(mystring.isprintable())"
   ]
  },
  {
   "cell_type": "code",
   "execution_count": 21,
   "metadata": {
    "colab": {
     "base_uri": "https://localhost:8080/"
    },
    "id": "NUPFc2ppAz94",
    "outputId": "c1a63b48-b956-4458-a1e8-aa466f9f6222"
   },
   "outputs": [
    {
     "name": "stdout",
     "output_type": "stream",
     "text": [
      "True\n"
     ]
    }
   ],
   "source": [
    "#isspace()method\n",
    "mystring=\" \"\n",
    "print(mystring.isspace())"
   ]
  },
  {
   "cell_type": "code",
   "execution_count": 22,
   "metadata": {
    "colab": {
     "base_uri": "https://localhost:8080/"
    },
    "id": "vRQIW61hBKtT",
    "outputId": "ef17bdb6-d384-4206-f428-375dc5c75ea5"
   },
   "outputs": [
    {
     "name": "stdout",
     "output_type": "stream",
     "text": [
      "True\n"
     ]
    }
   ],
   "source": [
    "#istitle()method\n",
    "mystring=\"Md Rtl Islam\"\n",
    "print(mystring.istitle())"
   ]
  },
  {
   "cell_type": "code",
   "execution_count": 23,
   "metadata": {
    "colab": {
     "base_uri": "https://localhost:8080/"
    },
    "id": "A9efUjjcBX6w",
    "outputId": "5ba3de44-54d7-478b-ede3-205568f1f0b4"
   },
   "outputs": [
    {
     "name": "stdout",
     "output_type": "stream",
     "text": [
      "True\n"
     ]
    }
   ],
   "source": [
    "#isupper()method\n",
    "mystring=\"MD RTL ISLAM\"\n",
    "print(mystring.isupper())"
   ]
  },
  {
   "cell_type": "code",
   "execution_count": 24,
   "metadata": {
    "colab": {
     "base_uri": "https://localhost:8080/"
    },
    "id": "fEYeVjl6BfeI",
    "outputId": "3de65ea8-f5b5-4e5f-e854-e67bbe87158d"
   },
   "outputs": [
    {
     "name": "stdout",
     "output_type": "stream",
     "text": [
      "M-d- -R-t-l- -I-s-l-a-m\n"
     ]
    }
   ],
   "source": [
    "#join()method\n",
    "mystring=\"Md Rtl Islam\"\n",
    "print(\"-\".join(mystring))"
   ]
  },
  {
   "cell_type": "code",
   "execution_count": 25,
   "metadata": {
    "colab": {
     "base_uri": "https://localhost:8080/"
    },
    "id": "FXNwRJmuCDhX",
    "outputId": "73b56941-3c94-4c8c-ddf8-6865ec54dcc0"
   },
   "outputs": [
    {
     "name": "stdout",
     "output_type": "stream",
     "text": [
      "Md         Rtl Islam\n"
     ]
    }
   ],
   "source": [
    "#ljust()method\n",
    "mystring=\"Md\"\n",
    "x=mystring.ljust(10)\n",
    "print(x,\"Rtl Islam\")"
   ]
  },
  {
   "cell_type": "code",
   "execution_count": 26,
   "metadata": {
    "colab": {
     "base_uri": "https://localhost:8080/"
    },
    "id": "j1gnQ_fpC8th",
    "outputId": "9300d97a-f004-479c-89e4-bac3e7ae4b6d"
   },
   "outputs": [
    {
     "name": "stdout",
     "output_type": "stream",
     "text": [
      "md rtl islam\n"
     ]
    }
   ],
   "source": [
    "#lower()method\n",
    "mystring=\"MD RTL ISLAM\"\n",
    "print(mystring.lower())"
   ]
  },
  {
   "cell_type": "code",
   "execution_count": 27,
   "metadata": {
    "colab": {
     "base_uri": "https://localhost:8080/"
    },
    "id": "SqcjS9OJDJvR",
    "outputId": "dc917d33-9c67-4f1b-ebe8-1ec264e09e7b"
   },
   "outputs": [
    {
     "name": "stdout",
     "output_type": "stream",
     "text": [
      "Md Rtl    Islam\n"
     ]
    }
   ],
   "source": [
    "#lstrip()method\n",
    "mystring=\"     Md Rtl    Islam\"\n",
    "print(mystring.lstrip())"
   ]
  },
  {
   "cell_type": "code",
   "execution_count": 28,
   "metadata": {
    "colab": {
     "base_uri": "https://localhost:8080/"
    },
    "id": "LkU86xphDgH6",
    "outputId": "a1477977-b5bd-4876-a63c-bcdf443e9312"
   },
   "outputs": [
    {
     "name": "stdout",
     "output_type": "stream",
     "text": [
      "Md Ctl Islam\n"
     ]
    }
   ],
   "source": [
    "#maketrans()method\n",
    "mystring=\"Md Rtl Islam\"\n",
    "x=mystring.maketrans(\"R\",\"C\")\n",
    "print(mystring.translate(x))"
   ]
  },
  {
   "cell_type": "code",
   "execution_count": 29,
   "metadata": {
    "colab": {
     "base_uri": "https://localhost:8080/"
    },
    "id": "Sw31ifTAD5cj",
    "outputId": "08cd19b4-fc21-41b2-e863-c1a303138e7b"
   },
   "outputs": [
    {
     "name": "stdout",
     "output_type": "stream",
     "text": [
      "('Md ', 'Rtl', ' Islam')\n"
     ]
    }
   ],
   "source": [
    "#partition()method\n",
    "mystring=\"Md Rtl Islam\"\n",
    "print(mystring.partition(\"Rtl\"))"
   ]
  },
  {
   "cell_type": "code",
   "execution_count": 30,
   "metadata": {
    "colab": {
     "base_uri": "https://localhost:8080/"
    },
    "id": "Zea12SeNEWTj",
    "outputId": "2a2ca8c3-2ecc-4776-a602-77a6f510a973"
   },
   "outputs": [
    {
     "name": "stdout",
     "output_type": "stream",
     "text": [
      "Md RLT Islam\n"
     ]
    }
   ],
   "source": [
    "#replace()method\n",
    "mystring=\"Md Rtl Islam\"\n",
    "print(mystring.replace(\"Rtl\",\"RLT\"))"
   ]
  },
  {
   "cell_type": "code",
   "execution_count": 31,
   "metadata": {
    "colab": {
     "base_uri": "https://localhost:8080/"
    },
    "id": "L2Zr_gxzEver",
    "outputId": "b365e924-d420-47e7-d6ea-10459ad732c1"
   },
   "outputs": [
    {
     "name": "stdout",
     "output_type": "stream",
     "text": [
      "7\n"
     ]
    }
   ],
   "source": [
    "#rfind()method\n",
    "mystring=\"Md Rtl Islam\"\n",
    "print(mystring.rfind(\"Islam\"))"
   ]
  },
  {
   "cell_type": "code",
   "execution_count": 32,
   "metadata": {
    "colab": {
     "base_uri": "https://localhost:8080/"
    },
    "id": "8IlIU3YYFWR9",
    "outputId": "6ae0fc1c-15d7-4c2f-d1a7-e6c31cb563f0"
   },
   "outputs": [
    {
     "name": "stdout",
     "output_type": "stream",
     "text": [
      "10\n"
     ]
    }
   ],
   "source": [
    "#rindex()method\n",
    "mystring=\"Md Rtl Islam\"\n",
    "print(mystring.rindex(\"am\"))"
   ]
  },
  {
   "cell_type": "code",
   "execution_count": 33,
   "metadata": {
    "colab": {
     "base_uri": "https://localhost:8080/"
    },
    "id": "EwoOVcUDFsCW",
    "outputId": "b3aed197-1b49-4cd6-e494-28dcf57a35ea"
   },
   "outputs": [
    {
     "name": "stdout",
     "output_type": "stream",
     "text": [
      "        Md Rtl islam\n"
     ]
    }
   ],
   "source": [
    "#rjust()method\n",
    "mystring=\"Md\"\n",
    "x=mystring.rjust(10)\n",
    "print(x,\"Rtl islam\")"
   ]
  },
  {
   "cell_type": "code",
   "execution_count": 34,
   "metadata": {
    "colab": {
     "base_uri": "https://localhost:8080/"
    },
    "id": "CGQacQWqHDYl",
    "outputId": "4d7065ac-7f50-4d8f-fa97-ebc1f59ddaed"
   },
   "outputs": [
    {
     "name": "stdout",
     "output_type": "stream",
     "text": [
      "('Md ', 'Rtl', ' Islam')\n"
     ]
    }
   ],
   "source": [
    "#rpartition()method\n",
    "mystring=\"Md Rtl Islam\"\n",
    "print(mystring.rpartition(\"Rtl\"))"
   ]
  },
  {
   "cell_type": "code",
   "execution_count": 35,
   "metadata": {
    "colab": {
     "base_uri": "https://localhost:8080/"
    },
    "id": "t29Cf-5uHquh",
    "outputId": "9f81788d-c3b3-4889-98a7-d2b10325d499"
   },
   "outputs": [
    {
     "name": "stdout",
     "output_type": "stream",
     "text": [
      "['Md Rtl Islam']\n"
     ]
    }
   ],
   "source": [
    "#rsplit()method\n",
    "mystring=\"Md Rtl Islam\"\n",
    "print(mystring.rsplit(\", \"))"
   ]
  },
  {
   "cell_type": "code",
   "execution_count": 36,
   "metadata": {
    "colab": {
     "base_uri": "https://localhost:8080/"
    },
    "id": "dfyBYz7oJYga",
    "outputId": "9ea9143b-4370-47b1-f698-55f9dbf49f12"
   },
   "outputs": [
    {
     "name": "stdout",
     "output_type": "stream",
     "text": [
      "     Md Rtl    Islam\n"
     ]
    }
   ],
   "source": [
    "#rstrip()method\n",
    "mystring=\"     Md Rtl    Islam\"\n",
    "print(mystring.rstrip())\n"
   ]
  },
  {
   "cell_type": "code",
   "execution_count": 37,
   "metadata": {
    "colab": {
     "base_uri": "https://localhost:8080/"
    },
    "id": "hTCPpwU3KOTG",
    "outputId": "b7deb941-8c05-4c97-a094-151c4abea08b"
   },
   "outputs": [
    {
     "name": "stdout",
     "output_type": "stream",
     "text": [
      "['Md', 'Rtl', 'Islam']\n"
     ]
    }
   ],
   "source": [
    "#split()method\n",
    "mystring=\"Md Rtl Islam\"\n",
    "print(mystring.split())"
   ]
  },
  {
   "cell_type": "code",
   "execution_count": 38,
   "metadata": {
    "colab": {
     "base_uri": "https://localhost:8080/"
    },
    "id": "PFCWOXoyLC_-",
    "outputId": "d3cf1623-1ab8-43b2-e5a9-5780534d5970"
   },
   "outputs": [
    {
     "name": "stdout",
     "output_type": "stream",
     "text": [
      "['Md Rtl Islam']\n"
     ]
    }
   ],
   "source": [
    "#splitlines()method\n",
    "mystring=\"Md Rtl Islam\"\n",
    "print(mystring.splitlines())"
   ]
  },
  {
   "cell_type": "code",
   "execution_count": 39,
   "metadata": {
    "colab": {
     "base_uri": "https://localhost:8080/"
    },
    "id": "uWp13FFpLVYj",
    "outputId": "3089c15d-2669-4f2e-bfe3-1845c2433770"
   },
   "outputs": [
    {
     "name": "stdout",
     "output_type": "stream",
     "text": [
      "True\n"
     ]
    }
   ],
   "source": [
    "#startswith()method\n",
    "mystring=\"Md Rtl Islam\"\n",
    "print(mystring.startswith(\"Md\"))"
   ]
  },
  {
   "cell_type": "code",
   "execution_count": 40,
   "metadata": {
    "colab": {
     "base_uri": "https://localhost:8080/"
    },
    "id": "u-ygXKWJLumj",
    "outputId": "9e514770-86a3-4f1d-dcac-935cfc4fe867"
   },
   "outputs": [
    {
     "name": "stdout",
     "output_type": "stream",
     "text": [
      "Md Rtl Islam\n"
     ]
    }
   ],
   "source": [
    "#strip()method\n",
    "mystring=\"    Md Rtl Islam   \"\n",
    "print(mystring.strip())\n"
   ]
  },
  {
   "cell_type": "code",
   "execution_count": 41,
   "metadata": {
    "colab": {
     "base_uri": "https://localhost:8080/"
    },
    "id": "_FWy3KIhMdO4",
    "outputId": "859269bb-57f2-4d00-a29a-d19a5b15917e"
   },
   "outputs": [
    {
     "name": "stdout",
     "output_type": "stream",
     "text": [
      "mD rTL iSLAM\n"
     ]
    }
   ],
   "source": [
    "#swapcase()method\n",
    "mystring=\"Md Rtl Islam\"\n",
    "print(mystring.swapcase())"
   ]
  },
  {
   "cell_type": "code",
   "execution_count": 42,
   "metadata": {
    "colab": {
     "base_uri": "https://localhost:8080/"
    },
    "id": "6I5Dfn9dNCEY",
    "outputId": "eac571d7-b44b-4714-a50c-0afab4db22e9"
   },
   "outputs": [
    {
     "name": "stdout",
     "output_type": "stream",
     "text": [
      "Md Rtl Islam\n"
     ]
    }
   ],
   "source": [
    "#title()method\n",
    "mystring=\"md rtl islam\"\n",
    "print(mystring.title())"
   ]
  },
  {
   "cell_type": "code",
   "execution_count": 43,
   "metadata": {
    "colab": {
     "base_uri": "https://localhost:8080/"
    },
    "id": "k3ubHO7aNv71",
    "outputId": "3c2f0ce8-a832-4a86-b0d7-2cc47b003c20"
   },
   "outputs": [
    {
     "name": "stdout",
     "output_type": "stream",
     "text": [
      "Hello Rtl\n"
     ]
    }
   ],
   "source": [
    "#translate()method\n",
    "mydict = {83:  80}\n",
    "mystring = \"Hello Rtl\"\n",
    "print(mystring.translate(mydict))"
   ]
  },
  {
   "cell_type": "code",
   "execution_count": 44,
   "metadata": {
    "colab": {
     "base_uri": "https://localhost:8080/"
    },
    "id": "qxsXjzpuO3UP",
    "outputId": "36399faa-6a3f-4a11-e3c8-a8c8ba8055ee"
   },
   "outputs": [
    {
     "name": "stdout",
     "output_type": "stream",
     "text": [
      "MD RTL ISLAM\n"
     ]
    }
   ],
   "source": [
    "#upper()method\n",
    "mystring=\"Md Rtl Islam\"\n",
    "print(mystring.upper())"
   ]
  },
  {
   "cell_type": "code",
   "execution_count": 45,
   "metadata": {
    "colab": {
     "base_uri": "https://localhost:8080/"
    },
    "id": "dXtEz6CdPIqp",
    "outputId": "834a740f-24e6-41a4-9834-c404b1f1632d"
   },
   "outputs": [
    {
     "name": "stdout",
     "output_type": "stream",
     "text": [
      "00000000000000000030\n"
     ]
    }
   ],
   "source": [
    "#zfill()method\n",
    "mystring=\"30\"\n",
    "print(mystring.zfill(20))"
   ]
  }
 ],
 "metadata": {
  "colab": {
   "provenance": []
  },
  "kernelspec": {
   "display_name": "Python 3",
   "name": "python3"
  },
  "language_info": {
   "codemirror_mode": {
    "name": "ipython",
    "version": 3
   },
   "file_extension": ".py",
   "mimetype": "text/x-python",
   "name": "python",
   "nbconvert_exporter": "python",
   "pygments_lexer": "ipython3",
   "version": "3.13.0"
  }
 },
 "nbformat": 4,
 "nbformat_minor": 0
}
