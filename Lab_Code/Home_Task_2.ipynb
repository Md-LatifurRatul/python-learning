{
 "cells": [
  {
   "cell_type": "code",
   "execution_count": 4,
   "metadata": {},
   "outputs": [
    {
     "name": "stdout",
     "output_type": "stream",
     "text": [
      "['Ratul', 'Python', 'Islam', 'Machine Learning']\n"
     ]
    }
   ],
   "source": [
    "# List\n",
    "mylist = [\"Ratul\", \"Python\", \"Islam\"]\n",
    "mylist.append(\"Machine Learning\")\n",
    "print(mylist)"
   ]
  },
  {
   "cell_type": "code",
   "execution_count": 5,
   "metadata": {},
   "outputs": [
    {
     "name": "stdout",
     "output_type": "stream",
     "text": [
      "[]\n"
     ]
    }
   ],
   "source": [
    "mylist.clear()\n",
    "print(mylist)"
   ]
  },
  {
   "cell_type": "code",
   "execution_count": 6,
   "metadata": {},
   "outputs": [
    {
     "name": "stdout",
     "output_type": "stream",
     "text": [
      "['Banana', 'Orange', 'Yellow']\n"
     ]
    }
   ],
   "source": [
    "list1 = [\"Banana\", \"Orange\", \"Yellow\"]\n",
    "list2 = list1.copy()\n",
    "print(list2)"
   ]
  },
  {
   "cell_type": "code",
   "execution_count": 11,
   "metadata": {},
   "outputs": [
    {
     "name": "stdout",
     "output_type": "stream",
     "text": [
      "3\n"
     ]
    }
   ],
   "source": [
    "countList = [1, 2, 3, 4, 2, 2, 4, 5]\n",
    "mycount = countList.count(2)\n",
    "print(mycount)"
   ]
  },
  {
   "cell_type": "code",
   "execution_count": 12,
   "metadata": {},
   "outputs": [
    {
     "name": "stdout",
     "output_type": "stream",
     "text": [
      "['Red', 'Yellow', 'Megenda', 'Green']\n"
     ]
    }
   ],
   "source": [
    "insertList = [\"Red\", \"Yellow\", \"Green\"]\n",
    "insertList.insert(2, \"Megenda\")\n",
    "print(insertList)"
   ]
  },
  {
   "cell_type": "code",
   "execution_count": 14,
   "metadata": {},
   "outputs": [
    {
     "name": "stdout",
     "output_type": "stream",
     "text": [
      "['Red', 'Yellow', 'Megenda', 'Green', 'Blue', 'Amber', 'Blue', 'Amber']\n"
     ]
    }
   ],
   "source": [
    "topicList = [\"Blue\", \"Amber\"]\n",
    "insertList.extend(topicList)\n",
    "print(insertList)"
   ]
  },
  {
   "cell_type": "code",
   "execution_count": 15,
   "metadata": {},
   "outputs": [
    {
     "name": "stdout",
     "output_type": "stream",
     "text": [
      "['NLP', 'AI', 'Python']\n"
     ]
    }
   ],
   "source": [
    "pythonList = [\"Python\", \"NLP\", \"AI\", \"Python\"]\n",
    "pythonList.remove(\"Python\")\n",
    "print(pythonList)"
   ]
  },
  {
   "cell_type": "code",
   "execution_count": 22,
   "metadata": {},
   "outputs": [
    {
     "name": "stdout",
     "output_type": "stream",
     "text": [
      "['banana', 'cherry']\n"
     ]
    }
   ],
   "source": [
    "thislist = [\"apple\", \"banana\", \"cherry\"] \n",
    "thislist.pop(0) \n",
    "print(thislist)\n"
   ]
  },
  {
   "cell_type": "code",
   "execution_count": 23,
   "metadata": {},
   "outputs": [
    {
     "name": "stdout",
     "output_type": "stream",
     "text": [
      "['banana']\n"
     ]
    }
   ],
   "source": [
    "thislist.pop()\n",
    "print(thislist)"
   ]
  },
  {
   "cell_type": "code",
   "execution_count": 28,
   "metadata": {},
   "outputs": [
    {
     "name": "stdout",
     "output_type": "stream",
     "text": [
      "1\n"
     ]
    }
   ],
   "source": [
    "listIndex = [0, 2, 2, 4, 5, 1]\n",
    "numIndex = listIndex.index(2)\n",
    "print(numIndex)"
   ]
  },
  {
   "cell_type": "code",
   "execution_count": 31,
   "metadata": {},
   "outputs": [
    {
     "name": "stdout",
     "output_type": "stream",
     "text": [
      "[5, 4, 3, 2, 1, 0]\n"
     ]
    }
   ],
   "source": [
    "listItem = [0, 1, 2, 3, 4, 5]\n",
    "listItem.reverse()\n",
    "print(listItem)"
   ]
  },
  {
   "cell_type": "code",
   "execution_count": 32,
   "metadata": {},
   "outputs": [
    {
     "name": "stdout",
     "output_type": "stream",
     "text": [
      "[0, 1, 2, 3, 5, 7, 9, 11]\n"
     ]
    }
   ],
   "source": [
    "numList = [9, 11, 2, 3, 5, 7, 0, 1]\n",
    "numList.sort()\n",
    "print(numList)"
   ]
  },
  {
   "cell_type": "code",
   "execution_count": 33,
   "metadata": {},
   "outputs": [
    {
     "name": "stdout",
     "output_type": "stream",
     "text": [
      "[100, 82, 65, 50, 23]\n"
     ]
    }
   ],
   "source": [
    "numList1 = [100, 50, 65, 82, 23] \n",
    "numList1.sort(reverse = True) \n",
    "print(numList1)"
   ]
  },
  {
   "cell_type": "code",
   "execution_count": 34,
   "metadata": {},
   "outputs": [],
   "source": [
    "del numList1"
   ]
  },
  {
   "cell_type": "code",
   "execution_count": 1,
   "metadata": {},
   "outputs": [
    {
     "name": "stdout",
     "output_type": "stream",
     "text": [
      "{'NLP', 'AI', 'Python', 'Neural'}\n"
     ]
    }
   ],
   "source": [
    "# Set\n",
    "\n",
    "myset = {\"Python\", \"NLP\", \"AI\"}\n",
    "myset.add(\"Neural\")\n",
    "print(myset)"
   ]
  },
  {
   "cell_type": "code",
   "execution_count": 2,
   "metadata": {},
   "outputs": [
    {
     "name": "stdout",
     "output_type": "stream",
     "text": [
      "set()\n"
     ]
    }
   ],
   "source": [
    "myset.clear()\n",
    "print(myset)"
   ]
  },
  {
   "cell_type": "code",
   "execution_count": 5,
   "metadata": {},
   "outputs": [
    {
     "name": "stdout",
     "output_type": "stream",
     "text": [
      "{'World', 'Python', 'Ratul'}\n"
     ]
    }
   ],
   "source": [
    "set1 = {\"World\", \"Ratul\", \"Python\"}\n",
    "set2 = set1.copy()\n",
    "print(set2)"
   ]
  },
  {
   "cell_type": "code",
   "execution_count": 6,
   "metadata": {},
   "outputs": [
    {
     "name": "stdout",
     "output_type": "stream",
     "text": [
      "{'banana', 'cherry'}\n"
     ]
    }
   ],
   "source": [
    "setItem1 = {\"apple\", \"banana\", \"cherry\"}\n",
    "setItem2 = {\"google\", \"microsoft\", \"apple\"}\n",
    "setItem3 = setItem1.difference(setItem2)\n",
    "print(setItem3)"
   ]
  },
  {
   "cell_type": "code",
   "execution_count": 7,
   "metadata": {},
   "outputs": [
    {
     "name": "stdout",
     "output_type": "stream",
     "text": [
      "{'Yellow', 'Green'}\n"
     ]
    }
   ],
   "source": [
    "setDiff1 = {\"Red\", \"Yellow\", \"Green\"}\n",
    "setDiff2 = {\"Amber\", \"Blue\", \"Red\"}\n",
    "setDiff1.difference_update(setDiff2)\n",
    "print(setDiff1)"
   ]
  },
  {
   "cell_type": "code",
   "execution_count": 9,
   "metadata": {},
   "outputs": [
    {
     "name": "stdout",
     "output_type": "stream",
     "text": [
      "{'Blue', 'Green'}\n"
     ]
    }
   ],
   "source": [
    "itemSet = {\"Blue\", \"Yellow\", \"Green\"}\n",
    "itemSet.discard(\"Yellow\")\n",
    "print(itemSet)"
   ]
  },
  {
   "cell_type": "code",
   "execution_count": 11,
   "metadata": {},
   "outputs": [
    {
     "name": "stdout",
     "output_type": "stream",
     "text": [
      "{'Python'}\n"
     ]
    }
   ],
   "source": [
    "setIntersect1 = {\"Python\", \"NLP\", \"AI\"}\n",
    "setIntersect2 = {\"Robot\", \"Python\"}\n",
    "setIntersect3 = setIntersect1.intersection(setIntersect2)\n",
    "print(setIntersect3)"
   ]
  },
  {
   "cell_type": "code",
   "execution_count": 12,
   "metadata": {},
   "outputs": [
    {
     "name": "stdout",
     "output_type": "stream",
     "text": [
      "{1, 4}\n"
     ]
    }
   ],
   "source": [
    "numSet1 = {1, 2, 4, 5}\n",
    "numSet2 = {3, 4, 1}\n",
    "numSet1.intersection_update(numSet2)\n",
    "print(numSet1)"
   ]
  },
  {
   "cell_type": "code",
   "execution_count": 15,
   "metadata": {},
   "outputs": [
    {
     "name": "stdout",
     "output_type": "stream",
     "text": [
      "True\n"
     ]
    }
   ],
   "source": [
    "setNum1 = {2, 3, 5}\n",
    "setNum2 = {1, 4, 6}\n",
    "setNum3 = setNum1.isdisjoint(setNum2)\n",
    "print(setNum3)"
   ]
  },
  {
   "cell_type": "code",
   "execution_count": 16,
   "metadata": {},
   "outputs": [
    {
     "name": "stdout",
     "output_type": "stream",
     "text": [
      "True\n"
     ]
    }
   ],
   "source": [
    "setAlph = {\"a\", \"b\", \"c\"}\n",
    "setAlph1 = {\"f\", \"e\", \"d\", \"c\", \"b\", \"a\"}\n",
    "setAlph2 = setAlph.issubset(setAlph1)\n",
    "print(setAlph2)"
   ]
  },
  {
   "cell_type": "code",
   "execution_count": 18,
   "metadata": {},
   "outputs": [
    {
     "name": "stdout",
     "output_type": "stream",
     "text": [
      "True\n"
     ]
    }
   ],
   "source": [
    "setSup = {\"Hello\", \"Python\", \"World\", \"NLP\"}\n",
    "setSup1 = {\"Python\", \"Hello\", \"NLP\"}\n",
    "setSup2 = setSup.issuperset(setSup1)\n",
    "print(setSup2)"
   ]
  },
  {
   "cell_type": "code",
   "execution_count": 19,
   "metadata": {},
   "outputs": [
    {
     "name": "stdout",
     "output_type": "stream",
     "text": [
      "{'Yellow', 'Green', 'Red'}\n"
     ]
    }
   ],
   "source": [
    "setColor = {\"Magenda\", \"Red\", \"Yellow\", \"Green\"}\n",
    "setColor.pop()\n",
    "print(setColor)"
   ]
  },
  {
   "cell_type": "code",
   "execution_count": 20,
   "metadata": {},
   "outputs": [
    {
     "name": "stdout",
     "output_type": "stream",
     "text": [
      "{'apple', 'cherry'}\n"
     ]
    }
   ],
   "source": [
    "setfruits = {\"apple\", \"banana\", \"cherry\"}\n",
    "setfruits.remove(\"banana\")\n",
    "print(setfruits)"
   ]
  },
  {
   "cell_type": "code",
   "execution_count": 21,
   "metadata": {},
   "outputs": [
    {
     "name": "stdout",
     "output_type": "stream",
     "text": [
      "{'banana', 'google', 'cherry', 'microsoft'}\n"
     ]
    }
   ],
   "source": [
    "setSym1 = {\"apple\", \"banana\", \"cherry\"}\n",
    "setSym2 = {\"google\", \"microsoft\", \"apple\"}\n",
    "setSym3 = setSym1.symmetric_difference(setSym2)\n",
    "print(setSym3)"
   ]
  },
  {
   "cell_type": "code",
   "execution_count": 22,
   "metadata": {},
   "outputs": [
    {
     "name": "stdout",
     "output_type": "stream",
     "text": [
      "{'banana', 'google', 'cherry', 'microsoft'}\n"
     ]
    }
   ],
   "source": [
    "setx = {\"apple\", \"banana\", \"cherry\"}\n",
    "sety = {\"google\", \"microsoft\", \"apple\"}\n",
    "setx.symmetric_difference_update(sety)\n",
    "print(setx)"
   ]
  },
  {
   "cell_type": "code",
   "execution_count": 24,
   "metadata": {},
   "outputs": [
    {
     "name": "stdout",
     "output_type": "stream",
     "text": [
      "{1, 2, 3, 4, 5, 6}\n"
     ]
    }
   ],
   "source": [
    "setNumbered = {1, 2, 4, 5}\n",
    "setNumbered1 = {3, 6, 2}\n",
    "setNumbered2 = setNumbered.union(setNumbered1)\n",
    "print(setNumbered2)"
   ]
  },
  {
   "cell_type": "code",
   "execution_count": 25,
   "metadata": {},
   "outputs": [
    {
     "name": "stdout",
     "output_type": "stream",
     "text": [
      "{1, 2, 3, 4, 5, 6}\n"
     ]
    }
   ],
   "source": [
    "setUp = {1, 2, 4, 5}\n",
    "setUp1 = {3, 6, 2}\n",
    "setUp.update(setUp1)\n",
    "print(setUp)"
   ]
  },
  {
   "cell_type": "code",
   "execution_count": 2,
   "metadata": {},
   "outputs": [
    {
     "name": "stdout",
     "output_type": "stream",
     "text": [
      "2\n"
     ]
    }
   ],
   "source": [
    "# Tuple\n",
    "\n",
    "thistuple = (1, 3, 7, 8, 7, 5, 4, 6, 8, 5)\n",
    "countTuple = thistuple.count(5)\n",
    "print(countTuple)\n"
   ]
  },
  {
   "cell_type": "code",
   "execution_count": 3,
   "metadata": {},
   "outputs": [
    {
     "name": "stdout",
     "output_type": "stream",
     "text": [
      "3\n"
     ]
    }
   ],
   "source": [
    "thistuple1 = (1, 3, 7, 8, 7, 5, 4, 6, 8, 5)\n",
    "indexTuple = thistuple.index(8)\n",
    "print(indexTuple)"
   ]
  }
 ],
 "metadata": {
  "kernelspec": {
   "display_name": "Python 3",
   "language": "python",
   "name": "python3"
  },
  "language_info": {
   "codemirror_mode": {
    "name": "ipython",
    "version": 3
   },
   "file_extension": ".py",
   "mimetype": "text/x-python",
   "name": "python",
   "nbconvert_exporter": "python",
   "pygments_lexer": "ipython3",
   "version": "3.13.0"
  }
 },
 "nbformat": 4,
 "nbformat_minor": 2
}
