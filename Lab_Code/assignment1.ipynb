{
 "cells": [
  {
   "cell_type": "code",
   "execution_count": null,
   "metadata": {},
   "outputs": [],
   "source": [
    "# 1\n",
    "\n",
    "meal_price = float(input(\"Enter your meal price: \"))\n",
    "price_tip = float(input(\"Enter the tip percentage you want to give: \"))\n",
    "\n",
    "def calculateTotalPrice():\n",
    "    tip_amount = (price_tip*meal_price) /100\n",
    "    total_price = meal_price+tip_amount\n",
    "    print(f\"Total bill with tip amount: {total_price}\") \n",
    "    \n",
    "print(\"Tip amount percentage: {}\" .format(price_tip))\n",
    "\n",
    "calculateTotalPrice()\n"
   ]
  },
  {
   "cell_type": "code",
   "execution_count": null,
   "metadata": {},
   "outputs": [
    {
     "name": "stdout",
     "output_type": "stream",
     "text": [
      "100 98 96 94 92 90 88 86 84 82 80 78 76 74 72 70 68 66 64 62 60 58 56 54 52 50 48 46 44 42 40 38 36 34 32 30 28 26 24 22 20 18 16 14 12 10 8 6 4 2 "
     ]
    }
   ],
   "source": [
    "# 2\n",
    "for x in range(100, 1, -2):\n",
    "    print(x, end=\" \")"
   ]
  },
  {
   "cell_type": "code",
   "execution_count": null,
   "metadata": {},
   "outputs": [],
   "source": [
    "# 3\n",
    "import math\n",
    "\n",
    "angle_degree = float(input(\"Enter and angle in degrees: \"))\n",
    "\n",
    "sine_angle = math.sin(math.radians(angle_degree))\n",
    "\n",
    "print(\"Sine of that angle is: \", sine_angle)\n"
   ]
  },
  {
   "cell_type": "code",
   "execution_count": 1,
   "metadata": {},
   "outputs": [
    {
     "name": "stdout",
     "output_type": "stream",
     "text": [
      "Number of candies left: 177\n"
     ]
    }
   ],
   "source": [
    "# Q4\n",
    "\n",
    "for candy_piece in range(200):\n",
    "    if candy_piece%5 == 2 and candy_piece%6 == 3 and candy_piece%7 == 2:\n",
    "        print(f\"Number of candies left: {candy_piece}\")\n",
    "        break\n",
    "\n"
   ]
  },
  {
   "cell_type": "code",
   "execution_count": 2,
   "metadata": {},
   "outputs": [
    {
     "name": "stdout",
     "output_type": "stream",
     "text": [
      "Total wicket taken in the series: 20\n",
      "The highest wicket taken match: 3 with 6 wickets\n",
      "The best match is: 3\n"
     ]
    }
   ],
   "source": [
    "# Q5\n",
    "\n",
    "bowling_figures = [(1, 5), (2, 3), (3, 6), (4, 2), (5, 4)]\n",
    "\n",
    "highest_wicket = 0\n",
    "highest_wicket_taken_match = 0\n",
    "total_wicket = 0\n",
    "# for wicket in bowling_figures:\n",
    "#     total_wicket = total_wicket + wicket[1]\n",
    "\n",
    "\n",
    "for match_number, wickets in bowling_figures:\n",
    "    total_wicket = total_wicket + wickets\n",
    "    if wickets > highest_wicket:\n",
    "        highest_wicket = wickets\n",
    "        highest_wicket_taken_match = match_number\n",
    "print(\"Total wicket taken in the series:\", total_wicket)\n",
    "print(f\"The highest wicket taken match: {highest_wicket_taken_match} with {highest_wicket} wickets\")\n",
    "print(f\"The best match is: {highest_wicket_taken_match}\")"
   ]
  },
  {
   "cell_type": "code",
   "execution_count": 6,
   "metadata": {},
   "outputs": [
    {
     "name": "stdout",
     "output_type": "stream",
     "text": [
      "Longest Sreak of the matches: 3\n",
      "Start match number of streak: 8\n",
      "End match number of streak: 10\n"
     ]
    }
   ],
   "source": [
    "# Q6\n",
    "goals = [0, 1, 0, 2, 3, 0, 0, 4, 1, 1, 0, 2, 0]\n",
    "\n",
    "streak_current = 0\n",
    "streak_count = 0\n",
    "start_streak = -1\n",
    "end_streak = -1\n",
    "temp_start = -1\n",
    "\n",
    "for match in range(len(goals)):\n",
    "    if goals[match] >= 1:\n",
    "\n",
    "        if streak_current == 0:\n",
    "            temp_start = match+1\n",
    "        streak_current += 1\n",
    "\n",
    "        if streak_current > streak_count:\n",
    "            streak_count = streak_current\n",
    "            start_streak = temp_start\n",
    "            end_streak = match+1\n",
    "    else:\n",
    "        streak_current = 0\n",
    "\n",
    "print(f\"Longest Sreak of the matches: {streak_count}\")\n",
    "print(f\"Start match number of streak: {start_streak}\")\n",
    "print(f\"End match number of streak: {end_streak}\")\n",
    "\n",
    "\n"
   ]
  },
  {
   "cell_type": "code",
   "execution_count": 1,
   "metadata": {},
   "outputs": [
    {
     "name": "stdout",
     "output_type": "stream",
     "text": [
      "Set of unique leagues he played: {'Premier League', 'Serie A', 'La Liga'}\n",
      "Total goals scored in all leagues: 886\n",
      "Total goals adding both clubs, international goals: 916\n"
     ]
    }
   ],
   "source": [
    "# Q7\n",
    "league_goals = [ ('La Liga', 311), ('Premier League', 84), ('Serie A', 81), ('La Liga', 320), ('Premier League', 90) ]\n",
    "\n",
    "leagues = []\n",
    "goals_scored = []\n",
    "\n",
    "\n",
    "for league in league_goals:\n",
    "    leagues.append(league[0])\n",
    "    goals_scored.append(league[1])\n",
    "\n",
    "unique_leagues = set(leagues)\n",
    "total_goals_scored = sum(goals_scored)\n",
    "\n",
    "def calcClubInternationGoal(interNationGoals):\n",
    "    return total_goals_scored + interNationGoals\n",
    "\n",
    "print(f\"Set of unique leagues he played: {unique_leagues}\")\n",
    "print(f\"Total goals scored in all leagues: {total_goals_scored}\")\n",
    "interNationGoals = 30\n",
    "print(f\"Total goals adding both clubs, international goals: {calcClubInternationGoal(interNationGoals)}\")\n",
    "\n",
    "\n",
    "\n"
   ]
  },
  {
   "cell_type": "code",
   "execution_count": null,
   "metadata": {},
   "outputs": [],
   "source": []
  }
 ],
 "metadata": {
  "kernelspec": {
   "display_name": "Python 3",
   "language": "python",
   "name": "python3"
  },
  "language_info": {
   "codemirror_mode": {
    "name": "ipython",
    "version": 3
   },
   "file_extension": ".py",
   "mimetype": "text/x-python",
   "name": "python",
   "nbconvert_exporter": "python",
   "pygments_lexer": "ipython3",
   "version": "3.13.0"
  }
 },
 "nbformat": 4,
 "nbformat_minor": 2
}
